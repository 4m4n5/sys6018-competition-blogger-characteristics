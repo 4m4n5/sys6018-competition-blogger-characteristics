{
 "cells": [
  {
   "cell_type": "code",
   "execution_count": 2,
   "metadata": {},
   "outputs": [],
   "source": [
    "import numpy as np # linear algebra\n",
    "import pandas as pd # data processing, CSV file I/O (e.g. pd.read_csv)\n",
    "# import re\n",
    "# import nltk\n",
    "# nltk.download('stopwords')\n",
    "# nltk.download('punkt')\n",
    "# from nltk.corpus import stopwords\n",
    "from numpy import *\n",
    "\n",
    "# Imports\n",
    "# import pandas as pd\n",
    "# from bs4 import BeautifulSoup\n",
    "# import re\n",
    "# from nltk.corpus import stopwords\n",
    "# import nltk.data\n",
    "# tokenizer = nltk.data.load('tokenizers/punkt/english.pickle')\n",
    "# import numpy as np\n",
    "# from sklearn.feature_extraction.text import CountVectorizer\n",
    "import warnings\n",
    "def ignore_warn(*args, **kwargs):\n",
    "    pass\n",
    "warnings.warn = ignore_warn #ignore annoying warning (from sklearn and seaborn)\n",
    "# from sklearn.feature_extraction.text import TfidfVectorizer\n",
    "\n",
    "\n",
    "# initial imports\n",
    "# import numpy as np # linear algebra\n",
    "# import pandas as pd # data processing, CSV file I/O (e.g. pd.read_csv)\n",
    "# %matplotlib inline\n",
    "import matplotlib.pyplot as plt  # Matlab-style plotting\n",
    "import seaborn as sns\n",
    "color = sns.color_palette()\n",
    "sns.set_style('darkgrid')\n",
    "# import warnings\n",
    "# def ignore_warn(*args, **kwargs):\n",
    "#     pass\n",
    "# warnings.warn = ignore_warn #ignore annoying warning (from sklearn and seaborn)\n",
    "\n",
    "from scipy import stats\n",
    "from scipy.stats import norm, skew #for some statistics\n",
    "# nltk.download('stopwords')\n",
    "# from string import punctuation\n",
    "# from nltk.corpus import stopwords\n",
    "# from nltk import word_tokenize"
   ]
  },
  {
   "cell_type": "code",
   "execution_count": null,
   "metadata": {},
   "outputs": [],
   "source": [
    "text_stat = pd.read_csv('data/large_files/final_data_with_text_stat.csv')"
   ]
  },
  {
   "cell_type": "code",
   "execution_count": null,
   "metadata": {},
   "outputs": [],
   "source": [
    "tfidf100 = pd.read_csv('tfidf_values_100.csv')"
   ]
  },
  {
   "cell_type": "code",
   "execution_count": null,
   "metadata": {},
   "outputs": [],
   "source": [
    "train_age = pd.read_csv('data/train_age.csv')"
   ]
  },
  {
   "cell_type": "code",
   "execution_count": null,
   "metadata": {},
   "outputs": [],
   "source": [
    "n_train = len(train_age['age'])"
   ]
  },
  {
   "cell_type": "code",
   "execution_count": null,
   "metadata": {},
   "outputs": [],
   "source": [
    "final_data = pd.concat([text_stat, tfidf100], axis=1)"
   ]
  },
  {
   "cell_type": "code",
   "execution_count": null,
   "metadata": {},
   "outputs": [],
   "source": [
    "selected_cols = list(final_data.columns)[1:]\n",
    "selected_cols.remove('Unnamed: 0')"
   ]
  },
  {
   "cell_type": "code",
   "execution_count": null,
   "metadata": {},
   "outputs": [],
   "source": [
    "len(selected_cols)"
   ]
  },
  {
   "cell_type": "code",
   "execution_count": null,
   "metadata": {},
   "outputs": [],
   "source": [
    "train_data = final_data[selected_cols][:n_train]"
   ]
  },
  {
   "cell_type": "code",
   "execution_count": null,
   "metadata": {},
   "outputs": [],
   "source": [
    "test_data = final_data[selected_cols][n_train:]"
   ]
  },
  {
   "cell_type": "code",
   "execution_count": null,
   "metadata": {},
   "outputs": [],
   "source": [
    "train_data.to_csv('train_data_vecs_tfidf.csv', encoding='utf-8')"
   ]
  },
  {
   "cell_type": "code",
   "execution_count": null,
   "metadata": {},
   "outputs": [],
   "source": [
    "test_data.to_csv('test_data_vecs200_tfidf100_grouped.csv', encoding='utf-8')"
   ]
  },
  {
   "cell_type": "code",
   "execution_count": 54,
   "metadata": {},
   "outputs": [],
   "source": [
    "train_data = pd.read_csv('train_data_vecs200_tfidf500_grouped.csv')"
   ]
  },
  {
   "cell_type": "code",
   "execution_count": 51,
   "metadata": {},
   "outputs": [],
   "source": [
    "test_data = pd.read_csv('test_data_vecs200_tfidf500_grouped.csv')"
   ]
  },
  {
   "cell_type": "code",
   "execution_count": 5,
   "metadata": {},
   "outputs": [],
   "source": [
    "train_age = pd.read_csv('data/train_age.csv')\n",
    "test_user = pd.read_csv('data/test_user.csv')"
   ]
  },
  {
   "cell_type": "code",
   "execution_count": 7,
   "metadata": {},
   "outputs": [],
   "source": [
    "n_train = len(train_age['age'])"
   ]
  },
  {
   "cell_type": "code",
   "execution_count": 56,
   "metadata": {},
   "outputs": [
    {
     "data": {
      "text/plain": [
       "0       0.009412\n",
       "1       0.014073\n",
       "2       0.014874\n",
       "3       0.014151\n",
       "4       0.000000\n",
       "5       0.023557\n",
       "6       0.006263\n",
       "7       0.009787\n",
       "8       0.000000\n",
       "9       0.000000\n",
       "10      0.000000\n",
       "11      0.000000\n",
       "12      0.000000\n",
       "13      0.034601\n",
       "14      0.009905\n",
       "15      0.013110\n",
       "16      0.005038\n",
       "17      0.007793\n",
       "18      0.000000\n",
       "19      0.054207\n",
       "20      0.004637\n",
       "21      0.009051\n",
       "22      0.016374\n",
       "23      0.000000\n",
       "24      0.000000\n",
       "25      0.000000\n",
       "26      0.073711\n",
       "27      0.019193\n",
       "28      0.002469\n",
       "29      0.002580\n",
       "          ...   \n",
       "6410    0.000000\n",
       "6411    0.000000\n",
       "6412    0.010292\n",
       "6413    0.000000\n",
       "6414    0.011361\n",
       "6415    0.018530\n",
       "6416    0.010033\n",
       "6417    0.000000\n",
       "6418    0.021092\n",
       "6419    0.015106\n",
       "6420    0.057018\n",
       "6421    0.000000\n",
       "6422    0.000000\n",
       "6423    0.012867\n",
       "6424    0.000000\n",
       "6425    0.000000\n",
       "6426    0.000000\n",
       "6427    0.000000\n",
       "6428    0.012663\n",
       "6429    0.000000\n",
       "6430    0.030768\n",
       "6431    0.007599\n",
       "6432    0.000000\n",
       "6433    0.007495\n",
       "6434    0.000000\n",
       "6435    0.000000\n",
       "6436    0.000000\n",
       "6437    0.000000\n",
       "6438    0.014706\n",
       "6439    0.000000\n",
       "Name: actual, Length: 6440, dtype: float64"
      ]
     },
     "execution_count": 56,
     "metadata": {},
     "output_type": "execute_result"
    }
   ],
   "source": [
    "test_data['actual']"
   ]
  },
  {
   "cell_type": "code",
   "execution_count": 10,
   "metadata": {},
   "outputs": [],
   "source": [
    "c = list(train_data.columns)[1:]\n",
    "train_data = train_data[c]\n",
    "test_data = test_data[c]"
   ]
  },
  {
   "cell_type": "code",
   "execution_count": null,
   "metadata": {},
   "outputs": [],
   "source": [
    "pos = pd.read_csv('output_pos')"
   ]
  },
  {
   "cell_type": "code",
   "execution_count": 11,
   "metadata": {},
   "outputs": [],
   "source": [
    "tfidf_train = pd.read_csv('data/large_files/gensim200_train_tf-idf.csv')\n",
    "tfidf_test = pd.read_csv('data/large_files/gensim200_test_tf-idf.csv')"
   ]
  },
  {
   "cell_type": "code",
   "execution_count": 27,
   "metadata": {},
   "outputs": [],
   "source": [
    "tfidf_tr = pd.concat([train_age['user.id'], tfidf_train], axis=1)\n",
    "tfidf_te = pd.concat([test_user['user.id'], tfidf_test], axis=1)"
   ]
  },
  {
   "cell_type": "code",
   "execution_count": 23,
   "metadata": {},
   "outputs": [],
   "source": [
    "c = list(tfidf_tr)[2:]"
   ]
  },
  {
   "cell_type": "code",
   "execution_count": 28,
   "metadata": {},
   "outputs": [
    {
     "data": {
      "text/plain": [
       "(238323, 201)"
      ]
     },
     "execution_count": 28,
     "metadata": {},
     "output_type": "execute_result"
    }
   ],
   "source": [
    "tfidf_te.shape"
   ]
  },
  {
   "cell_type": "code",
   "execution_count": 29,
   "metadata": {},
   "outputs": [],
   "source": [
    "tfidf_tr = tfidf_tr.groupby('user.id', as_index=False)[c].mean()\n",
    "tfidf_te = tfidf_te.groupby('user.id', as_index=False)[c].mean()"
   ]
  },
  {
   "cell_type": "code",
   "execution_count": 30,
   "metadata": {},
   "outputs": [],
   "source": [
    "tfidf_tr =tfidf_tr[c]\n",
    "tfidf_te =tfidf_te[c]"
   ]
  },
  {
   "cell_type": "code",
   "execution_count": 37,
   "metadata": {},
   "outputs": [],
   "source": [
    "s = list(train_data.columns)[:83]"
   ]
  },
  {
   "cell_type": "code",
   "execution_count": 40,
   "metadata": {},
   "outputs": [],
   "source": [
    "train_data = train_data[s]\n",
    "test_data = test_data[s]"
   ]
  },
  {
   "cell_type": "code",
   "execution_count": 41,
   "metadata": {},
   "outputs": [],
   "source": [
    "train_data = pd.concat([train_data, tfidf_tr], axis=1)\n",
    "test_data = pd.concat([test_data, tfidf_te], axis=1)"
   ]
  },
  {
   "cell_type": "code",
   "execution_count": 42,
   "metadata": {},
   "outputs": [],
   "source": [
    "# Initializing and fitting logistic regression model\n",
    "from sklearn.linear_model import LinearRegression\n",
    "\n",
    "from sklearn.linear_model import ElasticNet, Lasso,  BayesianRidge, LassoLarsIC, LinearRegression\n",
    "from sklearn.ensemble import RandomForestRegressor,  GradientBoostingRegressor\n",
    "from sklearn.kernel_ridge import KernelRidge\n",
    "from sklearn.pipeline import make_pipeline\n",
    "from sklearn.preprocessing import RobustScaler, MinMaxScaler\n",
    "from sklearn.base import BaseEstimator, TransformerMixin, RegressorMixin, clone\n",
    "from sklearn.model_selection import KFold, cross_val_score, train_test_split\n",
    "from sklearn.metrics import mean_squared_error\n",
    "import xgboost as xgb\n",
    "from sklearn.svm import SVR"
   ]
  },
  {
   "cell_type": "code",
   "execution_count": 43,
   "metadata": {},
   "outputs": [],
   "source": [
    "def mse_cv(model, X, y):\n",
    "    X_train, X_test, y_train, y_test = train_test_split(X, y, test_size=0.33, random_state=42)\n",
    "#     kf = KFold(n_folds, shuffle=True, random_state=42).get_n_splits(X_train.values)\n",
    "    model.fit(X_train, y_train)\n",
    "    true = y_test\n",
    "    preds = model.predict(X_test)\n",
    "    print(preds)\n",
    "    rmse= np.mean(np.square(np.absolute(preds - true)))\n",
    "    return(rmse)\n",
    "\n",
    "def mse_cv_log(model, X, y):\n",
    "    X_train, X_test, y_train, y_test = train_test_split(X, y, test_size=0.33, random_state=42)\n",
    "#     kf = KFold(n_folds, shuffle=True, random_state=42).get_n_splits(X_train.values)\n",
    "    model.fit(X_train, y_train)\n",
    "    true = np.expm1(y_test)\n",
    "    preds = np.expm1(model.predict(X_test))\n",
    "    print(preds)\n",
    "    rmse= np.mean(np.square(np.absolute(preds - true)))\n",
    "    return(rmse)\n",
    "\n",
    "def get_preds_models(model1, model2, X, y):\n",
    "    X_train, X_test, y_train, y_test = train_test_split(X, y, test_size=0.33, random_state=42)\n",
    "#     kf = KFold(n_folds, shuffle=True, random_state=42).get_n_splits(X_train.values)\n",
    "    model1.fit(X_train, y_train)\n",
    "    model2.fit(X_train, y_train)\n",
    "    true = y_test\n",
    "    model1_preds = model1.predict(X_test)\n",
    "    model2_preds = model2.predict(X_test)\n",
    "    return(model1_preds, model2_preds, true)\n",
    "\n",
    "def get_preds_models_krr(model1, model2, X, y):\n",
    "    X_train, X_test, y_train, y_test = train_test_split(X, y, test_size=0.33)\n",
    "#     kf = KFold(n_folds, shuffle=True, random_state=42).get_n_splits(X_train.values)\n",
    "    scaler = MinMaxScaler()\n",
    "    train_scaled = scaler.fit_transform(X_train)\n",
    "    model1.fit(train_scaled, np.log1p(y_train))\n",
    "    model2.fit(X_train, y_train)\n",
    "    true = y_test\n",
    "    test_scaled = scaler.fit_transform(X_test)\n",
    "    model1_preds = model1.predict(test_scaled)\n",
    "    model2_preds = model2.predict(X_test)\n",
    "    return(np.expm1(model1_preds), model2_preds, true)"
   ]
  },
  {
   "cell_type": "code",
   "execution_count": 44,
   "metadata": {},
   "outputs": [],
   "source": [
    "train_data = train_data.fillna(0)\n",
    "test_data = test_data.fillna(0)"
   ]
  },
  {
   "cell_type": "code",
   "execution_count": 45,
   "metadata": {},
   "outputs": [],
   "source": [
    "train_age = train_age.groupby('user.id', as_index=False)['age'].mean()"
   ]
  },
  {
   "cell_type": "code",
   "execution_count": null,
   "metadata": {},
   "outputs": [],
   "source": [
    "lasso =  make_pipeline(RobustScaler(), Lasso(alpha =0.0005, random_state=1))\n",
    "mse_cv(lasso, train_data, train_age['age'])"
   ]
  },
  {
   "cell_type": "code",
   "execution_count": null,
   "metadata": {},
   "outputs": [],
   "source": [
    "xgbm = xgb.XGBRegressor(n_estimators=360, max_depth=2, learning_rate=0.1)\n",
    "mse_cv(xgbm, train_data, train_age['age'])"
   ]
  },
  {
   "cell_type": "code",
   "execution_count": null,
   "metadata": {},
   "outputs": [],
   "source": []
  },
  {
   "cell_type": "code",
   "execution_count": null,
   "metadata": {},
   "outputs": [],
   "source": [
    "train_data_id = pd.concat([train_age['user.id'], train_data], axis=1)\n",
    "test_data_id = pd.concat([test_user['user.id'], test_data], axis=1)"
   ]
  },
  {
   "cell_type": "code",
   "execution_count": null,
   "metadata": {},
   "outputs": [],
   "source": [
    "train_data_g_id = train_data_id.groupby('user.id', as_index=False)[c].mean()\n",
    "test_data_g_id = test_data_id.groupby('user.id', as_index=False)[c].mean()"
   ]
  },
  {
   "cell_type": "code",
   "execution_count": null,
   "metadata": {},
   "outputs": [],
   "source": [
    "train_data_g_id = train_data_g_id[c]\n",
    "test_data_g_id = test_data_g_id[c]"
   ]
  },
  {
   "cell_type": "code",
   "execution_count": null,
   "metadata": {},
   "outputs": [],
   "source": [
    "train_age_g_id = train_age.groupby('user.id', as_index=False)['age'].mean()"
   ]
  },
  {
   "cell_type": "code",
   "execution_count": null,
   "metadata": {},
   "outputs": [],
   "source": [
    "train_age_g_id.shape"
   ]
  },
  {
   "cell_type": "code",
   "execution_count": null,
   "metadata": {},
   "outputs": [],
   "source": [
    "train_data_g_id.shape"
   ]
  },
  {
   "cell_type": "code",
   "execution_count": 46,
   "metadata": {},
   "outputs": [
    {
     "name": "stdout",
     "output_type": "stream",
     "text": [
      "[17.49723296 26.41487599 19.79314735 ... 25.4422205  22.60127108\n",
      " 24.54692852]\n"
     ]
    },
    {
     "data": {
      "text/plain": [
       "33.846405935353665"
      ]
     },
     "execution_count": 46,
     "metadata": {},
     "output_type": "execute_result"
    }
   ],
   "source": [
    "lasso =  make_pipeline(RobustScaler(), Lasso(alpha =0.01, random_state=1))\n",
    "mse_cv(lasso, train_data, train_age['age'])"
   ]
  },
  {
   "cell_type": "code",
   "execution_count": 47,
   "metadata": {},
   "outputs": [
    {
     "name": "stdout",
     "output_type": "stream",
     "text": [
      "[17.454115 25.238966 21.279661 ... 25.990171 20.478704 26.288006]\n"
     ]
    },
    {
     "data": {
      "text/plain": [
       "32.009403763212674"
      ]
     },
     "execution_count": 47,
     "metadata": {},
     "output_type": "execute_result"
    }
   ],
   "source": [
    "xgbm = xgb.XGBRegressor(n_estimators=360, max_depth=2, learning_rate=0.1)\n",
    "mse_cv(xgbm, train_data, train_age['age'])"
   ]
  },
  {
   "cell_type": "code",
   "execution_count": 50,
   "metadata": {},
   "outputs": [
    {
     "name": "stdout",
     "output_type": "stream",
     "text": [
      "[18.40570388 26.46831116 20.10341681 ... 24.92163153 20.56107356\n",
      " 24.68161284]\n"
     ]
    },
    {
     "data": {
      "text/plain": [
       "33.6995021002161"
      ]
     },
     "execution_count": 50,
     "metadata": {},
     "output_type": "execute_result"
    }
   ],
   "source": [
    "scaler = MinMaxScaler()\n",
    "train_scaled = scaler.fit_transform(train_data)\n",
    "krr = KernelRidge(alpha=0.1, kernel='polynomial')\n",
    "mse_cv(krr, train_scaled, train_age['age'])"
   ]
  },
  {
   "cell_type": "code",
   "execution_count": null,
   "metadata": {},
   "outputs": [],
   "source": [
    "scaler = MinMaxScaler()\n",
    "train_scaled = scaler.fit_transform(train_data)\n",
    "svr = SVR(kernel='rbf')\n",
    "mse_cv(svr, train_scaled, train_age['age'])"
   ]
  },
  {
   "cell_type": "code",
   "execution_count": null,
   "metadata": {},
   "outputs": [],
   "source": [
    "krr_preds, xgbm_preds, true = get_preds_models_krr(krr, xgbm, train_data, train_age['age'])"
   ]
  },
  {
   "cell_type": "code",
   "execution_count": null,
   "metadata": {},
   "outputs": [],
   "source": [
    "train_age['age_lp1'] = np.log1p(train_age['age'] + 1)"
   ]
  },
  {
   "cell_type": "code",
   "execution_count": null,
   "metadata": {},
   "outputs": [],
   "source": [
    "def is_skewed(col):\n",
    "    sns.distplot(train_age[col] , fit=norm);\n",
    "    fig = plt.figure()\n",
    "    res = stats.probplot(train_age[col], plot=plt)\n",
    "    # Get the fitted parameters used by the function\n",
    "    (mu, sigma) = norm.fit(train_age[col])\n",
    "    print( '\\n mu = {:.2f} and sigma = {:.2f}\\n'.format(mu, sigma))\n",
    "    \n",
    "is_skewed('age_lp1')"
   ]
  },
  {
   "cell_type": "code",
   "execution_count": null,
   "metadata": {},
   "outputs": [],
   "source": [
    "data = pd.concat([train_data, test_data], ignore_index=True)\n",
    "# Checking other skewed features\n",
    "numeric_feats = data.dtypes[data.dtypes != \"object\"].index\n",
    "\n",
    "# Check the skew of all numerical features\n",
    "skewed_feats = data[numeric_feats].apply(lambda x: skew(x.dropna())).sort_values(ascending=False)\n",
    "print(\"\\nSkew in numerical features: \\n\")\n",
    "skewness = pd.DataFrame({'Skew' :skewed_feats})\n",
    "skewness.head(15)"
   ]
  },
  {
   "cell_type": "code",
   "execution_count": null,
   "metadata": {},
   "outputs": [],
   "source": [
    "skewness = skewness[abs(skewness) > 0.75]\n",
    "print(\"There are {} skewed numerical features to Box Cox transform\".format(skewness.shape[0]))\n",
    "\n",
    "from scipy.special import boxcox1p\n",
    "skewed_features = skewness.index\n",
    "lam = 0.15\n",
    "for feat in skewed_features:\n",
    "    data[feat] = boxcox1p(data[feat], lam)"
   ]
  },
  {
   "cell_type": "code",
   "execution_count": null,
   "metadata": {},
   "outputs": [],
   "source": [
    "data = data.fillna(0)\n",
    "lasso =  make_pipeline(RobustScaler(), Lasso(alpha =0.01, random_state=1))\n",
    "mse_cv_log(lasso, train_data, train_age['age_l'])"
   ]
  },
  {
   "cell_type": "code",
   "execution_count": null,
   "metadata": {},
   "outputs": [],
   "source": [
    "min_err = 5\n",
    "for i in range(100):\n",
    "    for j in range(100):\n",
    "        a1 = 0.1*i\n",
    "        a2 = 0.1*j\n",
    "        preds = a1*krr_preds + a2*xgbm_preds\n",
    "        err = mean(np.absolute(true - preds))\n",
    "        if err < min_err:\n",
    "            print(err)\n",
    "            min_err = err\n",
    "            selecteda1 = a1\n",
    "            selecteda2 = a2"
   ]
  },
  {
   "cell_type": "code",
   "execution_count": null,
   "metadata": {},
   "outputs": [],
   "source": [
    "selecteda1"
   ]
  },
  {
   "cell_type": "code",
   "execution_count": null,
   "metadata": {},
   "outputs": [],
   "source": [
    "mean(np.absolute(lasso_preds - xgbm_preds))"
   ]
  },
  {
   "cell_type": "code",
   "execution_count": null,
   "metadata": {},
   "outputs": [],
   "source": [
    "xgbm = xgb.XGBRegressor(n_estimators=360, max_depth=2, learning_rate=0.1)\n",
    "xgbm.fit(train_data, train_age['age'])\n",
    "preds_xgbm = xgbm.predict(test_data)"
   ]
  },
  {
   "cell_type": "code",
   "execution_count": null,
   "metadata": {},
   "outputs": [],
   "source": [
    "lasso =  make_pipeline(RobustScaler(), Lasso(alpha =0.0005, random_state=1))\n",
    "lasso.fit(train_data_g_id, train_age_g_id['age'])\n",
    "preds_lasso = lasso.predict(test_data_g_id)"
   ]
  },
  {
   "cell_type": "code",
   "execution_count": null,
   "metadata": {},
   "outputs": [],
   "source": [
    "preds = selecteda1*preds_krr + selecteda2*preds_xgbm"
   ]
  },
  {
   "cell_type": "code",
   "execution_count": null,
   "metadata": {},
   "outputs": [],
   "source": [
    "scaler = MinMaxScaler()\n",
    "train_scaled = scaler.fit_transform(train_data)\n",
    "test_scaled = scaler.fit_transform(test_data)\n",
    "\n",
    "krr = KernelRidge(alpha=1.0, kernel='polynomial')\n",
    "krr.fit(train_scaled, train_age['age'])\n",
    "preds_krr = krr.predict(test_scaled)"
   ]
  },
  {
   "cell_type": "code",
   "execution_count": null,
   "metadata": {},
   "outputs": [],
   "source": [
    "preds_krr"
   ]
  },
  {
   "cell_type": "code",
   "execution_count": null,
   "metadata": {},
   "outputs": [],
   "source": [
    "lasso_preds, krr_preds, true = get_preds_models(lasso, xgbm, train_data_g_id, train_age_g_id['age'])"
   ]
  },
  {
   "cell_type": "code",
   "execution_count": null,
   "metadata": {},
   "outputs": [],
   "source": [
    "test_user_ids = unique(test_user['user.id'])"
   ]
  },
  {
   "cell_type": "code",
   "execution_count": null,
   "metadata": {},
   "outputs": [],
   "source": [
    "test_user_ids"
   ]
  },
  {
   "cell_type": "code",
   "execution_count": null,
   "metadata": {},
   "outputs": [],
   "source": [
    "solution = pd.DataFrame({\"user.id\":test_user_ids, \"age\":np.round(preds_xgbm, 0)})\n",
    "# solution = solution.groupby('user.id', as_index=False)['age'].mean()\n",
    "solution.to_csv(\"solutions/word_vecs200_tfidf500_xgbm_rounded.csv\", index = False)"
   ]
  },
  {
   "cell_type": "code",
   "execution_count": null,
   "metadata": {},
   "outputs": [],
   "source": [
    "lasso =  make_pipeline(RobustScaler(), Lasso(alpha =0.0005, random_state=1))\n",
    "mse_cv(lasso, train_data, train['age'])"
   ]
  },
  {
   "cell_type": "code",
   "execution_count": null,
   "metadata": {},
   "outputs": [],
   "source": [
    "test_data"
   ]
  },
  {
   "cell_type": "code",
   "execution_count": null,
   "metadata": {},
   "outputs": [],
   "source": []
  }
 ],
 "metadata": {
  "kernelspec": {
   "display_name": "Python 3",
   "language": "python",
   "name": "python3"
  },
  "language_info": {
   "codemirror_mode": {
    "name": "ipython",
    "version": 3
   },
   "file_extension": ".py",
   "mimetype": "text/x-python",
   "name": "python",
   "nbconvert_exporter": "python",
   "pygments_lexer": "ipython3",
   "version": "3.6.5"
  }
 },
 "nbformat": 4,
 "nbformat_minor": 2
}
