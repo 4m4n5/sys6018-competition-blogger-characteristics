{
 "cells": [
  {
   "cell_type": "code",
   "execution_count": 2,
   "metadata": {},
   "outputs": [],
   "source": [
    "import numpy as np # linear algebra\n",
    "import pandas as pd # data processing, CSV file I/O (e.g. pd.read_csv)\n",
    "# import re\n",
    "# import nltk\n",
    "# nltk.download('stopwords')\n",
    "# nltk.download('punkt')\n",
    "# from nltk.corpus import stopwords\n",
    "from numpy import *\n",
    "\n",
    "# Imports\n",
    "# import pandas as pd\n",
    "# from bs4 import BeautifulSoup\n",
    "# import re\n",
    "# from nltk.corpus import stopwords\n",
    "# import nltk.data\n",
    "# tokenizer = nltk.data.load('tokenizers/punkt/english.pickle')\n",
    "# import numpy as np\n",
    "# from sklearn.feature_extraction.text import CountVectorizer\n",
    "import warnings\n",
    "def ignore_warn(*args, **kwargs):\n",
    "    pass\n",
    "warnings.warn = ignore_warn #ignore annoying warning (from sklearn and seaborn)\n",
    "# from sklearn.feature_extraction.text import TfidfVectorizer\n",
    "\n",
    "\n",
    "# initial imports\n",
    "# import numpy as np # linear algebra\n",
    "# import pandas as pd # data processing, CSV file I/O (e.g. pd.read_csv)\n",
    "# %matplotlib inline\n",
    "# import matplotlib.pyplot as plt  # Matlab-style plotting\n",
    "# import seaborn as sns\n",
    "# color = sns.color_palette()\n",
    "# sns.set_style('darkgrid')\n",
    "# import warnings\n",
    "# def ignore_warn(*args, **kwargs):\n",
    "#     pass\n",
    "# warnings.warn = ignore_warn #ignore annoying warning (from sklearn and seaborn)\n",
    "\n",
    "# from scipy import stats\n",
    "# from scipy.stats import norm, skew #for some statistics\n",
    "# nltk.download('stopwords')\n",
    "# from string import punctuation\n",
    "# from nltk.corpus import stopwords\n",
    "# from nltk import word_tokenize"
   ]
  },
  {
   "cell_type": "code",
   "execution_count": null,
   "metadata": {},
   "outputs": [],
   "source": [
    "text_stat = pd.read_csv('data/large_files/final_data_with_text_stat.csv')"
   ]
  },
  {
   "cell_type": "code",
   "execution_count": null,
   "metadata": {},
   "outputs": [],
   "source": [
    "tfidf100 = pd.read_csv('tfidf_values_100.csv')"
   ]
  },
  {
   "cell_type": "code",
   "execution_count": null,
   "metadata": {},
   "outputs": [],
   "source": [
    "train_age = pd.read_csv('data/train_age.csv')"
   ]
  },
  {
   "cell_type": "code",
   "execution_count": null,
   "metadata": {},
   "outputs": [],
   "source": [
    "n_train = len(train_age['age'])"
   ]
  },
  {
   "cell_type": "code",
   "execution_count": null,
   "metadata": {},
   "outputs": [],
   "source": [
    "final_data = pd.concat([text_stat, tfidf100], axis=1)"
   ]
  },
  {
   "cell_type": "code",
   "execution_count": null,
   "metadata": {},
   "outputs": [],
   "source": [
    "selected_cols = list(final_data.columns)[1:]\n",
    "selected_cols.remove('Unnamed: 0')"
   ]
  },
  {
   "cell_type": "code",
   "execution_count": null,
   "metadata": {},
   "outputs": [],
   "source": [
    "len(selected_cols)"
   ]
  },
  {
   "cell_type": "code",
   "execution_count": null,
   "metadata": {},
   "outputs": [],
   "source": [
    "train_data = final_data[selected_cols][:n_train]"
   ]
  },
  {
   "cell_type": "code",
   "execution_count": null,
   "metadata": {},
   "outputs": [],
   "source": [
    "test_data = final_data[selected_cols][n_train:]"
   ]
  },
  {
   "cell_type": "code",
   "execution_count": null,
   "metadata": {},
   "outputs": [],
   "source": [
    "train_data.to_csv('train_data_vecs_tfidf.csv', encoding='utf-8')"
   ]
  },
  {
   "cell_type": "code",
   "execution_count": null,
   "metadata": {},
   "outputs": [],
   "source": [
    "test_data.to_csv('test_data_vecs_tfidf.csv', encoding='utf-8')"
   ]
  },
  {
   "cell_type": "code",
   "execution_count": 3,
   "metadata": {},
   "outputs": [],
   "source": [
    "train_data = pd.read_csv('train_data_vecs_tfidf.csv')"
   ]
  },
  {
   "cell_type": "code",
   "execution_count": 4,
   "metadata": {},
   "outputs": [],
   "source": [
    "test_data = pd.read_csv('test_data_vecs_tfidf.csv')"
   ]
  },
  {
   "cell_type": "code",
   "execution_count": 5,
   "metadata": {},
   "outputs": [],
   "source": [
    "train_age = pd.read_csv('data/train_age.csv')\n",
    "test_user = pd.read_csv('data/test_user.csv')"
   ]
  },
  {
   "cell_type": "code",
   "execution_count": 6,
   "metadata": {},
   "outputs": [],
   "source": [
    "n_train = len(train_age['age'])"
   ]
  },
  {
   "cell_type": "code",
   "execution_count": 8,
   "metadata": {},
   "outputs": [],
   "source": [
    "c = list(train_data.columns)[1:]\n",
    "train_data = train_data[c]\n",
    "test_data = test_data[c]"
   ]
  },
  {
   "cell_type": "code",
   "execution_count": 80,
   "metadata": {},
   "outputs": [],
   "source": [
    "# Initializing and fitting logistic regression model\n",
    "from sklearn.linear_model import LinearRegression\n",
    "\n",
    "from sklearn.linear_model import ElasticNet, Lasso,  BayesianRidge, LassoLarsIC, LinearRegression\n",
    "from sklearn.ensemble import RandomForestRegressor,  GradientBoostingRegressor\n",
    "from sklearn.kernel_ridge import KernelRidge\n",
    "from sklearn.pipeline import make_pipeline\n",
    "from sklearn.preprocessing import RobustScaler, MinMaxScaler\n",
    "from sklearn.base import BaseEstimator, TransformerMixin, RegressorMixin, clone\n",
    "from sklearn.model_selection import KFold, cross_val_score, train_test_split\n",
    "from sklearn.metrics import mean_squared_error\n",
    "import xgboost as xgb\n",
    "from sklearn.svm import SVR"
   ]
  },
  {
   "cell_type": "code",
   "execution_count": 117,
   "metadata": {},
   "outputs": [],
   "source": [
    "def mse_cv(model, X, y):\n",
    "    X_train, X_test, y_train, y_test = train_test_split(X, y, test_size=0.33, random_state=42)\n",
    "#     kf = KFold(n_folds, shuffle=True, random_state=42).get_n_splits(X_train.values)\n",
    "    model.fit(X_train, y_train)\n",
    "    true = y_test\n",
    "    preds = model.predict(X_test)\n",
    "    print(preds)\n",
    "    rmse= np.mean(np.square(np.absolute(preds - true)))\n",
    "    return(rmse)\n",
    "\n",
    "def get_preds_models(model1, model2, X, y):\n",
    "    X_train, X_test, y_train, y_test = train_test_split(X, y, test_size=0.33, random_state=42)\n",
    "#     kf = KFold(n_folds, shuffle=True, random_state=42).get_n_splits(X_train.values)\n",
    "    model1.fit(X_train, y_train)\n",
    "    model2.fit(X_train, y_train)\n",
    "    true = y_test\n",
    "    model1_preds = model1.predict(X_test)\n",
    "    model2_preds = model2.predict(X_test)\n",
    "    return(model1_preds, model2_preds, true)\n",
    "\n",
    "def get_preds_models_krr(model1, model2, X, y):\n",
    "    X_train, X_test, y_train, y_test = train_test_split(X, y, test_size=0.33, random_state=42)\n",
    "#     kf = KFold(n_folds, shuffle=True, random_state=42).get_n_splits(X_train.values)\n",
    "    scaler = MinMaxScaler()\n",
    "    train_scaled = scaler.fit_transform(X_train)\n",
    "    model1.fit(train_scaled, y_train)\n",
    "    model2.fit(X_train, y_train)\n",
    "    true = y_test\n",
    "    test_scaled = scaler.fit_transform(X_test)\n",
    "    model1_preds = model1.predict(test_scaled)\n",
    "    model2_preds = model2.predict(X_test)\n",
    "    return(model1_preds, model2_preds, true)"
   ]
  },
  {
   "cell_type": "code",
   "execution_count": 13,
   "metadata": {},
   "outputs": [],
   "source": [
    "train_data = train_data.fillna(0)\n",
    "test_data = test_data.fillna(0)"
   ]
  },
  {
   "cell_type": "code",
   "execution_count": 14,
   "metadata": {},
   "outputs": [
    {
     "data": {
      "text/plain": [
       "36.577992150135344"
      ]
     },
     "execution_count": 14,
     "metadata": {},
     "output_type": "execute_result"
    }
   ],
   "source": [
    "lasso =  make_pipeline(RobustScaler(), Lasso(alpha =0.0005, random_state=1))\n",
    "mse_cv(lasso, train_data, train_age['age'])"
   ]
  },
  {
   "cell_type": "code",
   "execution_count": 16,
   "metadata": {},
   "outputs": [
    {
     "data": {
      "text/plain": [
       "33.012290954589844"
      ]
     },
     "execution_count": 16,
     "metadata": {},
     "output_type": "execute_result"
    }
   ],
   "source": [
    "xgbm = xgb.XGBRegressor(n_estimators=360, max_depth=2, learning_rate=0.1)\n",
    "mse_cv(xgbm, train_data, train_age['age'])"
   ]
  },
  {
   "cell_type": "code",
   "execution_count": null,
   "metadata": {},
   "outputs": [],
   "source": []
  },
  {
   "cell_type": "code",
   "execution_count": 17,
   "metadata": {},
   "outputs": [],
   "source": [
    "train_data_id = pd.concat([train_age['user.id'], train_data], axis=1)\n",
    "test_data_id = pd.concat([test_user['user.id'], test_data], axis=1)"
   ]
  },
  {
   "cell_type": "code",
   "execution_count": 19,
   "metadata": {},
   "outputs": [],
   "source": [
    "train_data_g_id = train_data_id.groupby('user.id', as_index=False)[c].mean()\n",
    "test_data_g_id = test_data_id.groupby('user.id', as_index=False)[c].mean()"
   ]
  },
  {
   "cell_type": "code",
   "execution_count": 22,
   "metadata": {},
   "outputs": [],
   "source": [
    "train_data_g_id = train_data_g_id[c]\n",
    "test_data_g_id = test_data_g_id[c]"
   ]
  },
  {
   "cell_type": "code",
   "execution_count": 23,
   "metadata": {},
   "outputs": [],
   "source": [
    "train_age_g_id = train_age.groupby('user.id', as_index=False)['age'].mean()"
   ]
  },
  {
   "cell_type": "code",
   "execution_count": 24,
   "metadata": {},
   "outputs": [
    {
     "data": {
      "text/plain": [
       "(12880, 2)"
      ]
     },
     "execution_count": 24,
     "metadata": {},
     "output_type": "execute_result"
    }
   ],
   "source": [
    "train_age_g_id.shape"
   ]
  },
  {
   "cell_type": "code",
   "execution_count": 25,
   "metadata": {},
   "outputs": [
    {
     "data": {
      "text/plain": [
       "(12880, 284)"
      ]
     },
     "execution_count": 25,
     "metadata": {},
     "output_type": "execute_result"
    }
   ],
   "source": [
    "train_data_g_id.shape"
   ]
  },
  {
   "cell_type": "code",
   "execution_count": 107,
   "metadata": {},
   "outputs": [
    {
     "name": "stdout",
     "output_type": "stream",
     "text": [
      "[16.29008509 21.91020501 18.55957222 ... 26.31185623 26.9643012\n",
      " 27.66834053]\n"
     ]
    },
    {
     "data": {
      "text/plain": [
       "30.165564178177036"
      ]
     },
     "execution_count": 107,
     "metadata": {},
     "output_type": "execute_result"
    }
   ],
   "source": [
    "lasso =  make_pipeline(RobustScaler(), Lasso(alpha =0.01, random_state=1))\n",
    "mse_cv(lasso, train_data_g_id, train_age_g_id['age'])"
   ]
  },
  {
   "cell_type": "code",
   "execution_count": 27,
   "metadata": {},
   "outputs": [
    {
     "data": {
      "text/plain": [
       "28.948413347225053"
      ]
     },
     "execution_count": 27,
     "metadata": {},
     "output_type": "execute_result"
    }
   ],
   "source": [
    "xgbm = xgb.XGBRegressor(n_estimators=360, max_depth=2, learning_rate=0.1)\n",
    "mse_cv(xgbm, train_data_g_id, train_age_g_id['age'])"
   ]
  },
  {
   "cell_type": "code",
   "execution_count": 100,
   "metadata": {},
   "outputs": [
    {
     "name": "stdout",
     "output_type": "stream",
     "text": [
      "[17.85559146 21.12429793 18.50086629 ... 26.66460642 24.20156513\n",
      " 27.40337001]\n"
     ]
    },
    {
     "data": {
      "text/plain": [
       "28.387593251343162"
      ]
     },
     "execution_count": 100,
     "metadata": {},
     "output_type": "execute_result"
    }
   ],
   "source": [
    "scaler = MinMaxScaler()\n",
    "train_scaled = scaler.fit_transform(train_data_g_id)\n",
    "krr = KernelRidge(alpha=0.005, kernel='polynomial')\n",
    "mse_cv(krr, train_scaled, train_age_g_id['age'])"
   ]
  },
  {
   "cell_type": "code",
   "execution_count": 118,
   "metadata": {},
   "outputs": [],
   "source": [
    "krr_preds, xgbm_preds, true = get_preds_models_krr(krr, xgbm, train_data_g_id, train_age_g_id['age'])"
   ]
  },
  {
   "cell_type": "code",
   "execution_count": 119,
   "metadata": {},
   "outputs": [
    {
     "name": "stdout",
     "output_type": "stream",
     "text": [
      "3.996386270695814\n",
      "3.895963763044329\n",
      "3.8631909318344793\n",
      "3.8497393386131877\n"
     ]
    }
   ],
   "source": [
    "min_err = 5\n",
    "for i in range(10):\n",
    "    for j in range(10):\n",
    "        a1 = 0.1*i\n",
    "        a2 = 0.1*j\n",
    "        preds = a1*krr_preds + a2*xgbm_preds\n",
    "        err = mean(np.absolute(true - preds))\n",
    "        if err < min_err:\n",
    "            print(err)\n",
    "            min_err = err\n",
    "            selecteda1 = a1\n",
    "            selecteda2 = a2"
   ]
  },
  {
   "cell_type": "code",
   "execution_count": 121,
   "metadata": {},
   "outputs": [
    {
     "data": {
      "text/plain": [
       "0.30000000000000004"
      ]
     },
     "execution_count": 121,
     "metadata": {},
     "output_type": "execute_result"
    }
   ],
   "source": [
    "selecteda1"
   ]
  },
  {
   "cell_type": "code",
   "execution_count": 112,
   "metadata": {},
   "outputs": [
    {
     "data": {
      "text/plain": [
       "1.9518658278109846"
      ]
     },
     "execution_count": 112,
     "metadata": {},
     "output_type": "execute_result"
    }
   ],
   "source": [
    "mean(np.absolute(lasso_preds - xgbm_preds))"
   ]
  },
  {
   "cell_type": "code",
   "execution_count": 65,
   "metadata": {},
   "outputs": [],
   "source": [
    "xgbm = xgb.XGBRegressor(n_estimators=360, max_depth=2, learning_rate=0.1)\n",
    "xgbm.fit(train_data_g_id, train_age_g_id['age'])\n",
    "preds_xgbm = xgbm.predict(test_data_g_id)"
   ]
  },
  {
   "cell_type": "code",
   "execution_count": 66,
   "metadata": {},
   "outputs": [],
   "source": [
    "lasso =  make_pipeline(RobustScaler(), Lasso(alpha =0.0005, random_state=1))\n",
    "lasso.fit(train_data_g_id, train_age_g_id['age'])\n",
    "preds_lasso = lasso.predict(test_data_g_id)"
   ]
  },
  {
   "cell_type": "code",
   "execution_count": 123,
   "metadata": {},
   "outputs": [],
   "source": [
    "preds = selecteda1*preds_krr + selecteda2*preds_xgbm"
   ]
  },
  {
   "cell_type": "code",
   "execution_count": 91,
   "metadata": {},
   "outputs": [],
   "source": [
    "scaler = MinMaxScaler()\n",
    "train_scaled = scaler.fit_transform(train_data_g_id)\n",
    "test_scaled = scaler.fit_transform(test_data_g_id)\n",
    "\n",
    "krr = KernelRidge(alpha=1.0, kernel='polynomial')\n",
    "krr.fit(train_scaled, train_age_g_id['age'])\n",
    "preds_krr = krr.predict(test_scaled)"
   ]
  },
  {
   "cell_type": "code",
   "execution_count": 122,
   "metadata": {},
   "outputs": [
    {
     "data": {
      "text/plain": [
       "array([23.97358778, 27.60706612, 25.59134762, ..., 29.36969975,\n",
       "       17.16165149, 20.73848124])"
      ]
     },
     "execution_count": 122,
     "metadata": {},
     "output_type": "execute_result"
    }
   ],
   "source": [
    "preds_krr"
   ]
  },
  {
   "cell_type": "code",
   "execution_count": null,
   "metadata": {},
   "outputs": [],
   "source": [
    "lasso_preds, krr_preds, true = get_preds_models(lasso, xgbm, train_data_g_id, train_age_g_id['age'])"
   ]
  },
  {
   "cell_type": "code",
   "execution_count": 73,
   "metadata": {},
   "outputs": [
    {
     "data": {
      "text/plain": [
       "6440"
      ]
     },
     "execution_count": 73,
     "metadata": {},
     "output_type": "execute_result"
    }
   ],
   "source": [
    "len(test_user)"
   ]
  },
  {
   "cell_type": "code",
   "execution_count": 124,
   "metadata": {},
   "outputs": [],
   "source": [
    "solution = pd.DataFrame({\"user.id\":test_user, \"age\":preds})\n",
    "# solution = solution.groupby('user.id', as_index=False)['age'].mean()\n",
    "solution.to_csv(\"solutions/word_vecs_tfidf500_grouped_ensamble_krr_xgbm.csv\", index = False)"
   ]
  },
  {
   "cell_type": "code",
   "execution_count": null,
   "metadata": {},
   "outputs": [],
   "source": [
    "lasso =  make_pipeline(RobustScaler(), Lasso(alpha =0.0005, random_state=1))\n",
    "mse_cv(lasso, train_data, train['age'])"
   ]
  }
 ],
 "metadata": {
  "kernelspec": {
   "display_name": "Python 3",
   "language": "python",
   "name": "python3"
  },
  "language_info": {
   "codemirror_mode": {
    "name": "ipython",
    "version": 3
   },
   "file_extension": ".py",
   "mimetype": "text/x-python",
   "name": "python",
   "nbconvert_exporter": "python",
   "pygments_lexer": "ipython3",
   "version": "3.6.5"
  }
 },
 "nbformat": 4,
 "nbformat_minor": 2
}
