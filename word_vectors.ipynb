{
 "cells": [
  {
   "cell_type": "code",
   "execution_count": 11,
   "metadata": {},
   "outputs": [
    {
     "name": "stdout",
     "output_type": "stream",
     "text": [
      "[nltk_data] Downloading package stopwords to /home/aman/nltk_data...\n",
      "[nltk_data]   Package stopwords is already up-to-date!\n",
      "[nltk_data] Downloading package punkt to /home/aman/nltk_data...\n",
      "[nltk_data]   Package punkt is already up-to-date!\n"
     ]
    }
   ],
   "source": [
    "import numpy as np # linear algebra\n",
    "import pandas as pd # data processing, CSV file I/O (e.g. pd.read_csv)\n",
    "import re\n",
    "import nltk\n",
    "nltk.download('stopwords')\n",
    "nltk.download('punkt')\n",
    "from nltk.corpus import stopwords\n",
    "from numpy import *\n",
    "\n",
    "# Imports\n",
    "import pandas as pd\n",
    "from bs4 import BeautifulSoup\n",
    "import re\n",
    "from nltk.corpus import stopwords\n",
    "import nltk.data\n",
    "tokenizer = nltk.data.load('tokenizers/punkt/english.pickle')\n",
    "import numpy as np\n",
    "from sklearn.feature_extraction.text import CountVectorizer\n",
    "import warnings\n",
    "def ignore_warn(*args, **kwargs):\n",
    "    pass\n",
    "warnings.warn = ignore_warn #ignore annoying warning (from sklearn and seaborn)\n",
    "from gensim.models import word2vec\n",
    "\n",
    "\n",
    "# initial imports\n",
    "import numpy as np # linear algebra\n",
    "import pandas as pd # data processing, CSV file I/O (e.g. pd.read_csv)\n",
    "%matplotlib inline\n",
    "import matplotlib.pyplot as plt  # Matlab-style plotting\n",
    "import seaborn as sns\n",
    "color = sns.color_palette()\n",
    "sns.set_style('darkgrid')\n",
    "import warnings\n",
    "def ignore_warn(*args, **kwargs):\n",
    "    pass\n",
    "warnings.warn = ignore_warn #ignore annoying warning (from sklearn and seaborn)\n",
    "\n",
    "from scipy import stats\n",
    "from scipy.stats import norm, skew #for some statistics"
   ]
  },
  {
   "cell_type": "code",
   "execution_count": 2,
   "metadata": {},
   "outputs": [],
   "source": [
    "train = pd.read_csv('data/train.csv')\n",
    "test = pd.read_csv('data/test.csv')"
   ]
  },
  {
   "cell_type": "code",
   "execution_count": 3,
   "metadata": {},
   "outputs": [],
   "source": [
    "y_train = train.age.values\n",
    "data = pd.concat((train, test)).reset_index(drop=True)\n",
    "data.drop(['age'], axis=1, inplace=True)"
   ]
  },
  {
   "cell_type": "code",
   "execution_count": null,
   "metadata": {},
   "outputs": [],
   "source": [
    "data['year'] = data['date'].str[-4:]\n",
    "data.head()"
   ]
  },
  {
   "cell_type": "code",
   "execution_count": null,
   "metadata": {},
   "outputs": [],
   "source": [
    "def sentence_to_wordlist(review, remove_stopwords=False):\n",
    "    review_text = BeautifulSoup(review).get_text()\n",
    "    review_text = re.sub(\"[^a-zA-Z]\", \" \", review_text)\n",
    "    words = review_text.lower().split()\n",
    "    if remove_stopwords:\n",
    "        stops = set(stopwords.words(\"english\"))\n",
    "        words = [w for w in words if not w in stops]\n",
    "    return words"
   ]
  },
  {
   "cell_type": "code",
   "execution_count": null,
   "metadata": {},
   "outputs": [],
   "source": [
    "# Word2Vec expects single sentences, \n",
    "# each one as a list of words. \n",
    "# In other words, the input format is a list of lists.\n",
    "def review_to_sentences(review, tokenizer, remove_stopwords=False):\n",
    "    raw_sentences = tokenizer.tokenize(review.strip())\n",
    "    sentences = []\n",
    "    for raw_sentence in raw_sentences:\n",
    "        if len(raw_sentence) > 0:\n",
    "            sentences.append(sentence_to_wordlist(raw_sentence, remove_stopwords))\n",
    "    # Return the list of sentences (each sentence is a list of words,\n",
    "    # so this returns a list of lists\n",
    "    return sentences"
   ]
  },
  {
   "cell_type": "code",
   "execution_count": null,
   "metadata": {},
   "outputs": [],
   "source": [
    "sentences = []  # Initialize an empty list of sentences\n",
    "tokenizer = nltk.data.load('tokenizers/punkt/english.pickle')\n",
    "print (\"Parsing sentences from data set\")\n",
    "for review in data[\"text\"]:\n",
    "    sentences += review_to_sentences(review, tokenizer, remove_stopwords=True)"
   ]
  },
  {
   "cell_type": "code",
   "execution_count": null,
   "metadata": {},
   "outputs": [],
   "source": [
    "# Import the built-in logging module and configure it so that Word2Vec \n",
    "# creates nice output messages\n",
    "import logging\n",
    "logging.basicConfig(format='%(asctime)s : %(levelname)s : %(message)s',\\\n",
    "    level=logging.INFO)\n",
    "\n",
    "# Set values for various parameters\n",
    "num_features = 100    # Word vector dimensionality                      \n",
    "min_word_count = 40   # Minimum word count                        \n",
    "num_workers = 8       # Number of threads to run in parallel\n",
    "context = 10          # Context window size                                                                                    \n",
    "downsampling = 1e-3   # Downsample setting for frequent words\n",
    "\n",
    "# Initialize and train the model (this will take some time)\n",
    "from gensim.models import word2vec\n",
    "print (\"Training model...\")\n",
    "model = word2vec.Word2Vec(sentences, workers=num_workers, \\\n",
    "            size=num_features, min_count = min_word_count, \\\n",
    "            window = context, sample = downsampling)\n",
    "\n",
    "# If you don't plan to train the model any further, calling \n",
    "# init_sims will make the model much more memory-efficient.\n",
    "model.init_sims(replace=True)\n",
    "\n",
    "# It can be helpful to create a meaningful model name and \n",
    "# save the model for later use. You can load it later using Word2Vec.load()\n",
    "model_name = \"100features_40minwords_10context\"\n",
    "model.save(model_name)"
   ]
  },
  {
   "cell_type": "code",
   "execution_count": null,
   "metadata": {},
   "outputs": [],
   "source": [
    "import numpy as np  # Make sure that numpy is imported\n",
    "\n",
    "def makeFeatureVec(words, model, num_features):\n",
    "    # Function to average all of the word vectors in a given\n",
    "    # paragraph\n",
    "    #\n",
    "    # Pre-initialize an empty numpy array (for speed)\n",
    "    featureVec = np.zeros((num_features,),dtype=\"float32\")\n",
    "    #\n",
    "    nwords = 0\n",
    "    # \n",
    "    # Index2word is a list that contains the names of the words in \n",
    "    # the model's vocabulary. Convert it to a set, for speed \n",
    "    index2word_set = set(model.index2word)\n",
    "    #\n",
    "    # Loop over each word in the review and, if it is in the model's\n",
    "    # vocaublary, add its feature vector to the total\n",
    "    for word in words:\n",
    "        if word in index2word_set: \n",
    "            nwords = nwords + 1\n",
    "            featureVec = np.add(featureVec,model[word])\n",
    "    # \n",
    "    # Divide the result by the number of words to get the average\n",
    "    featureVec = np.divide(featureVec,nwords)\n",
    "    return featureVec\n",
    "\n",
    "\n",
    "def getAvgFeatureVecs(reviews, model, num_features):\n",
    "    # Given a set of reviews (each one a list of words), calculate \n",
    "    # the average feature vector for each one and return a 2D numpy array \n",
    "    # \n",
    "    # Initialize a counter\n",
    "    counter = int(0)\n",
    "    # \n",
    "    # Preallocate a 2D numpy array, for speed\n",
    "    reviewFeatureVecs = np.zeros((len(reviews),num_features),dtype=\"float32\")\n",
    "    # \n",
    "    # Loop through the reviews\n",
    "    for review in reviews:\n",
    "       #\n",
    "       # Print a status message every 1000th review\n",
    "        if counter%10000. == 0.:\n",
    "            print (\"Review %d of %d\" % (counter, len(reviews)))\n",
    "       # \n",
    "       # Call the function (defined above) that makes average feature vectors\n",
    "        reviewFeatureVecs[int(counter)] = makeFeatureVec(review, model, \\\n",
    "           num_features)\n",
    "       #\n",
    "       # Increment the counter\n",
    "        counter = counter + 1\n",
    "    return reviewFeatureVecs"
   ]
  },
  {
   "cell_type": "code",
   "execution_count": null,
   "metadata": {},
   "outputs": [],
   "source": [
    "def review_to_wordlist( review, remove_stopwords=False ):\n",
    "    # Function to convert a document to a sequence of words,\n",
    "    # optionally removing stop words.  Returns a list of words.\n",
    "    #\n",
    "    # 1. Remove HTML\n",
    "    review_text = BeautifulSoup(review).get_text()\n",
    "    #  \n",
    "    # 2. Remove non-letters\n",
    "    review_text = re.sub(\"[^a-zA-Z]\",\" \", review_text)\n",
    "    #\n",
    "    # 3. Convert words to lower case and split them\n",
    "    words = review_text.lower().split()\n",
    "    #\n",
    "    # 4. Optionally remove stop words (false by default)\n",
    "    if remove_stopwords:\n",
    "        stops = set(stopwords.words(\"english\"))\n",
    "        words = [w for w in words if not w in stops]\n",
    "    #\n",
    "    # 5. Return a list of words\n",
    "    return(words)"
   ]
  },
  {
   "cell_type": "code",
   "execution_count": null,
   "metadata": {},
   "outputs": [],
   "source": [
    "model = word2vec.Word2Vec.load(\"100features_40minwords_10context\").wv\n",
    "clean_train_reviews = []\n",
    "for review in train[\"text\"]:\n",
    "    clean_train_reviews.append( review_to_wordlist( review, \\\n",
    "        remove_stopwords=True ))"
   ]
  },
  {
   "cell_type": "code",
   "execution_count": null,
   "metadata": {},
   "outputs": [],
   "source": [
    "num_features = 100\n",
    "trainDataVecs = getAvgFeatureVecs( clean_train_reviews, model, num_features )\n",
    "import numpy\n",
    "numpy.savetxt(\"data/trainDataVecs.csv\", trainDataVecs, delimiter=\",\")\n",
    "np.save('data/trainDataVecs.npy', trainDataVecs)"
   ]
  },
  {
   "cell_type": "code",
   "execution_count": 4,
   "metadata": {},
   "outputs": [
    {
     "data": {
      "text/plain": [
       "7"
      ]
     },
     "execution_count": 4,
     "metadata": {},
     "output_type": "execute_result"
    }
   ],
   "source": [
    "import gc\n",
    "gc.collect()"
   ]
  },
  {
   "cell_type": "code",
   "execution_count": null,
   "metadata": {},
   "outputs": [],
   "source": [
    "print (\"Creating average feature vecs for test reviews\")\n",
    "clean_test_reviews = []\n",
    "for review in test[\"text\"]:\n",
    "    clean_test_reviews.append( review_to_wordlist( review, \\\n",
    "        remove_stopwords=True ))\n",
    "\n",
    "testDataVecs = getAvgFeatureVecs( clean_test_reviews, model, num_features )\n",
    "numpy.savetxt(\"data/testDataVecs.csv\", testDataVecs, delimiter=\",\")\n",
    "np.save('data/testDataVecs.npy', testDataVecs)"
   ]
  },
  {
   "cell_type": "code",
   "execution_count": 9,
   "metadata": {},
   "outputs": [],
   "source": [
    "# Initializing and fitting logistic regression model\n",
    "from sklearn.linear_model import LinearRegression\n",
    "\n",
    "from sklearn.linear_model import ElasticNet, Lasso,  BayesianRidge, LassoLarsIC, LinearRegression\n",
    "from sklearn.ensemble import RandomForestRegressor,  GradientBoostingRegressor\n",
    "from sklearn.kernel_ridge import KernelRidge\n",
    "from sklearn.pipeline import make_pipeline\n",
    "from sklearn.preprocessing import RobustScaler\n",
    "from sklearn.base import BaseEstimator, TransformerMixin, RegressorMixin, clone\n",
    "from sklearn.model_selection import KFold, cross_val_score, train_test_split\n",
    "from sklearn.metrics import mean_squared_error\n",
    "import xgboost as xgb"
   ]
  },
  {
   "cell_type": "code",
   "execution_count": null,
   "metadata": {},
   "outputs": [],
   "source": [
    "lasso =  make_pipeline(RobustScaler(), Lasso(alpha =0.0005, random_state=1))\n",
    "cross_val_score(lasso, trainDataVecs, train['age'], cv=4)"
   ]
  },
  {
   "cell_type": "code",
   "execution_count": null,
   "metadata": {},
   "outputs": [],
   "source": [
    "from numpy import *\n",
    "where_are_NaNs = isnan(trainDataVecs)\n",
    "trainDataVecs[where_are_NaNs] = 0\n",
    "where_are_NaNs = isnan(testDataVecs)\n",
    "testDataVecs[where_are_NaNs] = 0"
   ]
  },
  {
   "cell_type": "code",
   "execution_count": null,
   "metadata": {},
   "outputs": [],
   "source": [
    "xgbm = xgb.XGBRegressor(n_estimators=360, max_depth=2, learning_rate=0.1)\n",
    "cross_val_score(xgbm, trainDataVecs, train['age'], cv=4)"
   ]
  },
  {
   "cell_type": "code",
   "execution_count": null,
   "metadata": {},
   "outputs": [],
   "source": [
    "xgbm.fit(trainDataVecs, train['age'])\n",
    "preds = xgbm.predict(testDataVecs)\n",
    "solution = pd.DataFrame({\"user.id\":test[\"user.id\"], \"age\":preds})\n",
    "solution = solution.groupby('user.id', as_index=False)['age'].mean()\n",
    "solution.to_csv(\"solutions/word_vecs_xgbm.csv\", index = False)"
   ]
  },
  {
   "cell_type": "code",
   "execution_count": null,
   "metadata": {},
   "outputs": [],
   "source": [
    "lasso.fit(trainDataVecs, train['age'])\n",
    "preds_lasso = lasso.predict(testDataVecs)\n",
    "solution_lasso = pd.DataFrame({\"user.id\":test[\"user.id\"], \"age\":preds_lasso})\n",
    "solution_lasso = solution_lasso.groupby('user.id', as_index=False)['age'].mean()\n",
    "solution_lasso.to_csv(\"solutions/word_vecs_sentiment_lasso.csv\", index = False)"
   ]
  },
  {
   "cell_type": "code",
   "execution_count": null,
   "metadata": {},
   "outputs": [],
   "source": [
    "preds_lasso.mean()"
   ]
  },
  {
   "cell_type": "code",
   "execution_count": 46,
   "metadata": {},
   "outputs": [],
   "source": [
    "t = pd.read_csv('data/trainDataVecs.csv', header=None)"
   ]
  },
  {
   "cell_type": "code",
   "execution_count": 47,
   "metadata": {},
   "outputs": [],
   "source": [
    "t2 = pd.read_csv('data/data_with_sentiment_score_and_one_hot.csv')"
   ]
  },
  {
   "cell_type": "code",
   "execution_count": 48,
   "metadata": {},
   "outputs": [],
   "source": [
    "from sklearn import preprocessing\n",
    "t2_n = t2[['length_text',\n",
    "       'gender_female', 'gender_male', 'gender_nan', 'sign_Aquarius',\n",
    "       'sign_Aries', 'sign_Cancer', 'sign_Capricorn', 'sign_Gemini',\n",
    "       'sign_Leo', 'sign_Libra', 'sign_Pisces', 'sign_Sagittarius',\n",
    "       'sign_Scorpio', 'sign_Taurus', 'sign_Virgo', 'sign_nan',\n",
    "       'topic_Accounting', 'topic_Advertising', 'topic_Agriculture',\n",
    "       'topic_Architecture', 'topic_Arts', 'topic_Automotive', 'topic_Banking',\n",
    "       'topic_Biotech', 'topic_BusinessServices', 'topic_Chemicals',\n",
    "       'topic_Communications-Media', 'topic_Construction', 'topic_Consulting',\n",
    "       'topic_Education', 'topic_Engineering', 'topic_Environment',\n",
    "       'topic_Fashion', 'topic_Government', 'topic_HumanResources',\n",
    "       'topic_Internet', 'topic_InvestmentBanking', 'topic_Law',\n",
    "       'topic_LawEnforcement-Security', 'topic_Manufacturing',\n",
    "       'topic_Maritime', 'topic_Marketing', 'topic_Military',\n",
    "       'topic_Museums-Libraries', 'topic_Non-Profit', 'topic_Publishing',\n",
    "       'topic_RealEstate', 'topic_Religion', 'topic_Science',\n",
    "       'topic_Sports-Recreation', 'topic_Student', 'topic_Technology',\n",
    "       'topic_Telecommunications', 'topic_Tourism', 'topic_Transportation',\n",
    "       'topic_indUnk', 'topic_nan', 'year_,,', 'year_1999', 'year_2000',\n",
    "       'year_2001', 'year_2002', 'year_2003', 'year_2004', 'year_2005',\n",
    "       'year_2006', 'year_nan']]\n",
    "\n",
    "# Create x, where x the 'scores' column's values as floats\n",
    "x = t2_n.values.astype(float)\n",
    "\n",
    "# Create a minimum and maximum processor object\n",
    "min_max_scaler = preprocessing.MinMaxScaler()\n",
    "\n",
    "# Create an object to transform the data to fit minmax processor\n",
    "x_scaled = min_max_scaler.fit_transform(x)\n",
    "\n",
    "# Run the normalizer on the dataframe\n",
    "t2_n = pd.DataFrame(x_scaled)\n",
    "t2_n.columns = ['length_text',\n",
    "       'gender_female', 'gender_male', 'gender_nan', 'sign_Aquarius',\n",
    "       'sign_Aries', 'sign_Cancer', 'sign_Capricorn', 'sign_Gemini',\n",
    "       'sign_Leo', 'sign_Libra', 'sign_Pisces', 'sign_Sagittarius',\n",
    "       'sign_Scorpio', 'sign_Taurus', 'sign_Virgo', 'sign_nan',\n",
    "       'topic_Accounting', 'topic_Advertising', 'topic_Agriculture',\n",
    "       'topic_Architecture', 'topic_Arts', 'topic_Automotive', 'topic_Banking',\n",
    "       'topic_Biotech', 'topic_BusinessServices', 'topic_Chemicals',\n",
    "       'topic_Communications-Media', 'topic_Construction', 'topic_Consulting',\n",
    "       'topic_Education', 'topic_Engineering', 'topic_Environment',\n",
    "       'topic_Fashion', 'topic_Government', 'topic_HumanResources',\n",
    "       'topic_Internet', 'topic_InvestmentBanking', 'topic_Law',\n",
    "       'topic_LawEnforcement-Security', 'topic_Manufacturing',\n",
    "       'topic_Maritime', 'topic_Marketing', 'topic_Military',\n",
    "       'topic_Museums-Libraries', 'topic_Non-Profit', 'topic_Publishing',\n",
    "       'topic_RealEstate', 'topic_Religion', 'topic_Science',\n",
    "       'topic_Sports-Recreation', 'topic_Student', 'topic_Technology',\n",
    "       'topic_Telecommunications', 'topic_Tourism', 'topic_Transportation',\n",
    "       'topic_indUnk', 'topic_nan', 'year_,,', 'year_1999', 'year_2000',\n",
    "       'year_2001', 'year_2002', 'year_2003', 'year_2004', 'year_2005',\n",
    "       'year_2006', 'year_nan']"
   ]
  },
  {
   "cell_type": "code",
   "execution_count": 49,
   "metadata": {},
   "outputs": [],
   "source": [
    "final_data = pd.concat([t, t2_n, t2[['Positive', 'Negative', 'Neutral', 'Compound']]], axis=1)"
   ]
  },
  {
   "cell_type": "code",
   "execution_count": 50,
   "metadata": {},
   "outputs": [],
   "source": [
    "train_columns = [0,  1,  2,  3,  4,  5,  6,  7,  8,  9, 10, 11, 12, 13, 14, 15, 16,\n",
    "            17, 18, 19, 20, 21, 22, 23, 24, 25, 26, 27, 28, 29, 30, 31, 32, 33,\n",
    "            34, 35, 36, 37, 38, 39, 40, 41, 42, 43, 44, 45, 46, 47, 48, 49, 50,\n",
    "            51, 52, 53, 54, 55, 56, 57, 58, 59, 60, 61, 62, 63, 64, 65, 66, 67,\n",
    "            68, 69, 70, 71, 72, 73, 74, 75, 76, 77, 78, 79, 80, 81, 82, 83, 84,\n",
    "            85, 86, 87, 88, 89, 90, 91, 92, 93, 94, 95, 96, 97, 98, 99,\n",
    "             'length_text', 'Positive', 'Negative', 'Neutral', 'Compound',\n",
    "       'gender_female', 'gender_male', 'gender_nan', 'sign_Aquarius',\n",
    "       'sign_Aries', 'sign_Cancer', 'sign_Capricorn', 'sign_Gemini',\n",
    "       'sign_Leo', 'sign_Libra', 'sign_Pisces', 'sign_Sagittarius',\n",
    "       'sign_Scorpio', 'sign_Taurus', 'sign_Virgo', 'sign_nan',\n",
    "       'topic_Accounting', 'topic_Advertising', 'topic_Agriculture',\n",
    "       'topic_Architecture', 'topic_Arts', 'topic_Automotive', 'topic_Banking',\n",
    "       'topic_Biotech', 'topic_BusinessServices', 'topic_Chemicals',\n",
    "       'topic_Communications-Media', 'topic_Construction', 'topic_Consulting',\n",
    "       'topic_Education', 'topic_Engineering', 'topic_Environment',\n",
    "       'topic_Fashion', 'topic_Government', 'topic_HumanResources',\n",
    "       'topic_Internet', 'topic_InvestmentBanking', 'topic_Law',\n",
    "       'topic_LawEnforcement-Security', 'topic_Manufacturing',\n",
    "       'topic_Maritime', 'topic_Marketing', 'topic_Military',\n",
    "       'topic_Museums-Libraries', 'topic_Non-Profit', 'topic_Publishing',\n",
    "       'topic_RealEstate', 'topic_Religion', 'topic_Science',\n",
    "       'topic_Sports-Recreation', 'topic_Student', 'topic_Technology',\n",
    "       'topic_Telecommunications', 'topic_Tourism', 'topic_Transportation',\n",
    "       'topic_indUnk', 'topic_nan', 'year_,,', 'year_1999', 'year_2000',\n",
    "       'year_2001', 'year_2002', 'year_2003', 'year_2004', 'year_2005',\n",
    "       'year_2006', 'year_nan']\n",
    "\n",
    "train_data = final_data[train_columns][:len(train['text'])]\n",
    "test_data = final_data[train_columns][len(train['text']):]\n",
    "\n",
    "train_data = train_data.fillna(0)\n",
    "test_data = test_data.fillna(0)"
   ]
  },
  {
   "cell_type": "code",
   "execution_count": 14,
   "metadata": {},
   "outputs": [
    {
     "name": "stdout",
     "output_type": "stream",
     "text": [
      "\n",
      " mu = 23.54 and sigma = 7.60\n",
      "\n"
     ]
    },
    {
     "data": {
      "image/png": "[encoded data removed]",
      "text/plain": [
       "<Figure size 432x288 with 1 Axes>"
      ]
     },
     "metadata": {},
     "output_type": "display_data"
    },
    {
     "data": {
      "image/png": "[encoded data removed]",
      "text/plain": [
       "<Figure size 432x288 with 1 Axes>"
      ]
     },
     "metadata": {},
     "output_type": "display_data"
    }
   ],
   "source": [
    "def is_skewed(col):\n",
    "    sns.distplot(train[col] , fit=norm);\n",
    "    fig = plt.figure()\n",
    "    res = stats.probplot(train[col], plot=plt)\n",
    "    # Get the fitted parameters used by the function\n",
    "    (mu, sigma) = norm.fit(train[col])\n",
    "    print( '\\n mu = {:.2f} and sigma = {:.2f}\\n'.format(mu, sigma))\n",
    "    \n",
    "is_skewed('age')"
   ]
  },
  {
   "cell_type": "code",
   "execution_count": 28,
   "metadata": {},
   "outputs": [
    {
     "name": "stdout",
     "output_type": "stream",
     "text": [
      "\n",
      " mu = 3.15 and sigma = 0.30\n",
      "\n"
     ]
    },
    {
     "data": {
      "image/png": "[encoded data removed]",
      "text/plain": [
       "<Figure size 432x288 with 1 Axes>"
      ]
     },
     "metadata": {},
     "output_type": "display_data"
    },
    {
     "data": {
      "image/png": "[encoded data removed]",
      "text/plain": [
       "<Figure size 432x288 with 1 Axes>"
      ]
     },
     "metadata": {},
     "output_type": "display_data"
    }
   ],
   "source": [
    "train[\"age_t\"] = np.log1p(train[\"age\"])\n",
    "is_skewed('age_t')"
   ]
  },
  {
   "cell_type": "code",
   "execution_count": 51,
   "metadata": {},
   "outputs": [
    {
     "data": {
      "text/plain": [
       "array([0.36362029, 0.35147927, 0.34202493, 0.37544378])"
      ]
     },
     "execution_count": 51,
     "metadata": {},
     "output_type": "execute_result"
    }
   ],
   "source": [
    "lasso =  make_pipeline(RobustScaler(), Lasso(alpha =0.0005, random_state=1))\n",
    "cross_val_score(lasso, train_data, train['age_t'], cv=4)"
   ]
  },
  {
   "cell_type": "code",
   "execution_count": 12,
   "metadata": {},
   "outputs": [
    {
     "data": {
      "text/plain": [
       "array([0.34395293, 0.33350242, 0.32647197, 0.36623622])"
      ]
     },
     "execution_count": 12,
     "metadata": {},
     "output_type": "execute_result"
    }
   ],
   "source": [
    "xgbm = xgb.XGBRegressor(n_estimators=360, max_depth=2, learning_rate=0.1)\n",
    "cross_val_score(xgbm, train_data, train['age'], cv=4)"
   ]
  },
  {
   "cell_type": "code",
   "execution_count": 20,
   "metadata": {},
   "outputs": [
    {
     "data": {
      "text/plain": [
       "0"
      ]
     },
     "execution_count": 20,
     "metadata": {},
     "output_type": "execute_result"
    }
   ],
   "source": [
    "import gc\n",
    "gc.collect()"
   ]
  },
  {
   "cell_type": "code",
   "execution_count": 27,
   "metadata": {},
   "outputs": [
    {
     "data": {
      "text/plain": [
       "array([0.34740275, 0.34039158, 0.32054995, 0.36691908])"
      ]
     },
     "execution_count": 27,
     "metadata": {},
     "output_type": "execute_result"
    }
   ],
   "source": [
    "xgbm = xgb.XGBRegressor(n_estimators=360, max_depth=4, learning_rate=0.1)\n",
    "cross_val_score(xgbm, train_data, train['age'], cv=4)"
   ]
  },
  {
   "cell_type": "code",
   "execution_count": 16,
   "metadata": {},
   "outputs": [],
   "source": [
    "xgbm.fit(train_data, train['age'])\n",
    "preds = xgbm.predict(test_data)\n",
    "solution = pd.DataFrame({\"user.id\":test[\"user.id\"], \"age\":preds})\n",
    "solution = solution.groupby('user.id', as_index=False)['age'].mean()\n",
    "solution.to_csv(\"solutions/word_vecs_metadata_xgbm.csv\", index = False)"
   ]
  },
  {
   "cell_type": "code",
   "execution_count": 52,
   "metadata": {},
   "outputs": [],
   "source": [
    "lasso.fit(train_data, train['age_t'])\n",
    "preds_lasso = np.expm1(lasso.predict(test_data))\n",
    "solution_lasso = pd.DataFrame({\"user.id\":test[\"user.id\"], \"age\":preds_lasso})\n",
    "solution_lasso = solution_lasso.groupby('user.id', as_index=False)['age'].mean()\n",
    "solution_lasso.to_csv(\"solutions/word_vecs_metadata_lasso_normalization.csv\", index = False)"
   ]
  },
  {
   "cell_type": "code",
   "execution_count": null,
   "metadata": {},
   "outputs": [],
   "source": [
    "xgbm = xgb.XGBRegressor(n_estimators=360, max_depth=4, learning_rate=0.1)\n",
    "cross_val_score(xgbm, train_data, train['age_t'], cv=4)"
   ]
  },
  {
   "cell_type": "code",
   "execution_count": 29,
   "metadata": {},
   "outputs": [
    {
     "data": {
      "text/html": [
       "<div>\n",
       "<style scoped>\n",
       "    .dataframe tbody tr th:only-of-type {\n",
       "        vertical-align: middle;\n",
       "    }\n",
       "\n",
       "    .dataframe tbody tr th {\n",
       "        vertical-align: top;\n",
       "    }\n",
       "\n",
       "    .dataframe thead th {\n",
       "        text-align: right;\n",
       "    }\n",
       "</style>\n",
       "<table border=\"1\" class=\"dataframe\">\n",
       "  <thead>\n",
       "    <tr style=\"text-align: right;\">\n",
       "      <th></th>\n",
       "      <th>user.id</th>\n",
       "      <th>age</th>\n",
       "    </tr>\n",
       "  </thead>\n",
       "  <tbody>\n",
       "    <tr>\n",
       "      <th>0</th>\n",
       "      <td>2</td>\n",
       "      <td>26.097750</td>\n",
       "    </tr>\n",
       "    <tr>\n",
       "      <th>1</th>\n",
       "      <td>8</td>\n",
       "      <td>23.512323</td>\n",
       "    </tr>\n",
       "    <tr>\n",
       "      <th>2</th>\n",
       "      <td>9</td>\n",
       "      <td>26.307722</td>\n",
       "    </tr>\n",
       "    <tr>\n",
       "      <th>3</th>\n",
       "      <td>10</td>\n",
       "      <td>24.116599</td>\n",
       "    </tr>\n",
       "    <tr>\n",
       "      <th>4</th>\n",
       "      <td>11</td>\n",
       "      <td>23.448533</td>\n",
       "    </tr>\n",
       "    <tr>\n",
       "      <th>5</th>\n",
       "      <td>13</td>\n",
       "      <td>20.072217</td>\n",
       "    </tr>\n",
       "    <tr>\n",
       "      <th>6</th>\n",
       "      <td>20</td>\n",
       "      <td>28.606135</td>\n",
       "    </tr>\n",
       "    <tr>\n",
       "      <th>7</th>\n",
       "      <td>26</td>\n",
       "      <td>20.307331</td>\n",
       "    </tr>\n",
       "    <tr>\n",
       "      <th>8</th>\n",
       "      <td>27</td>\n",
       "      <td>19.392220</td>\n",
       "    </tr>\n",
       "    <tr>\n",
       "      <th>9</th>\n",
       "      <td>29</td>\n",
       "      <td>25.077876</td>\n",
       "    </tr>\n",
       "    <tr>\n",
       "      <th>10</th>\n",
       "      <td>31</td>\n",
       "      <td>27.066792</td>\n",
       "    </tr>\n",
       "    <tr>\n",
       "      <th>11</th>\n",
       "      <td>33</td>\n",
       "      <td>20.369875</td>\n",
       "    </tr>\n",
       "    <tr>\n",
       "      <th>12</th>\n",
       "      <td>35</td>\n",
       "      <td>24.056663</td>\n",
       "    </tr>\n",
       "    <tr>\n",
       "      <th>13</th>\n",
       "      <td>36</td>\n",
       "      <td>27.834266</td>\n",
       "    </tr>\n",
       "    <tr>\n",
       "      <th>14</th>\n",
       "      <td>38</td>\n",
       "      <td>24.128952</td>\n",
       "    </tr>\n",
       "    <tr>\n",
       "      <th>15</th>\n",
       "      <td>48</td>\n",
       "      <td>24.024373</td>\n",
       "    </tr>\n",
       "    <tr>\n",
       "      <th>16</th>\n",
       "      <td>49</td>\n",
       "      <td>26.833170</td>\n",
       "    </tr>\n",
       "    <tr>\n",
       "      <th>17</th>\n",
       "      <td>53</td>\n",
       "      <td>19.600254</td>\n",
       "    </tr>\n",
       "    <tr>\n",
       "      <th>18</th>\n",
       "      <td>54</td>\n",
       "      <td>20.925854</td>\n",
       "    </tr>\n",
       "    <tr>\n",
       "      <th>19</th>\n",
       "      <td>59</td>\n",
       "      <td>26.088590</td>\n",
       "    </tr>\n",
       "    <tr>\n",
       "      <th>20</th>\n",
       "      <td>66</td>\n",
       "      <td>25.486503</td>\n",
       "    </tr>\n",
       "    <tr>\n",
       "      <th>21</th>\n",
       "      <td>68</td>\n",
       "      <td>26.807789</td>\n",
       "    </tr>\n",
       "    <tr>\n",
       "      <th>22</th>\n",
       "      <td>72</td>\n",
       "      <td>25.732578</td>\n",
       "    </tr>\n",
       "    <tr>\n",
       "      <th>23</th>\n",
       "      <td>76</td>\n",
       "      <td>20.777289</td>\n",
       "    </tr>\n",
       "    <tr>\n",
       "      <th>24</th>\n",
       "      <td>83</td>\n",
       "      <td>25.086146</td>\n",
       "    </tr>\n",
       "    <tr>\n",
       "      <th>25</th>\n",
       "      <td>89</td>\n",
       "      <td>25.536158</td>\n",
       "    </tr>\n",
       "    <tr>\n",
       "      <th>26</th>\n",
       "      <td>90</td>\n",
       "      <td>25.097319</td>\n",
       "    </tr>\n",
       "    <tr>\n",
       "      <th>27</th>\n",
       "      <td>91</td>\n",
       "      <td>23.755761</td>\n",
       "    </tr>\n",
       "    <tr>\n",
       "      <th>28</th>\n",
       "      <td>94</td>\n",
       "      <td>23.842732</td>\n",
       "    </tr>\n",
       "    <tr>\n",
       "      <th>29</th>\n",
       "      <td>95</td>\n",
       "      <td>27.021341</td>\n",
       "    </tr>\n",
       "    <tr>\n",
       "      <th>...</th>\n",
       "      <td>...</td>\n",
       "      <td>...</td>\n",
       "    </tr>\n",
       "    <tr>\n",
       "      <th>6410</th>\n",
       "      <td>19245</td>\n",
       "      <td>26.991541</td>\n",
       "    </tr>\n",
       "    <tr>\n",
       "      <th>6411</th>\n",
       "      <td>19246</td>\n",
       "      <td>25.813908</td>\n",
       "    </tr>\n",
       "    <tr>\n",
       "      <th>6412</th>\n",
       "      <td>19251</td>\n",
       "      <td>24.003968</td>\n",
       "    </tr>\n",
       "    <tr>\n",
       "      <th>6413</th>\n",
       "      <td>19254</td>\n",
       "      <td>24.314798</td>\n",
       "    </tr>\n",
       "    <tr>\n",
       "      <th>6414</th>\n",
       "      <td>19257</td>\n",
       "      <td>25.093148</td>\n",
       "    </tr>\n",
       "    <tr>\n",
       "      <th>6415</th>\n",
       "      <td>19259</td>\n",
       "      <td>24.848897</td>\n",
       "    </tr>\n",
       "    <tr>\n",
       "      <th>6416</th>\n",
       "      <td>19261</td>\n",
       "      <td>29.897660</td>\n",
       "    </tr>\n",
       "    <tr>\n",
       "      <th>6417</th>\n",
       "      <td>19265</td>\n",
       "      <td>19.261566</td>\n",
       "    </tr>\n",
       "    <tr>\n",
       "      <th>6418</th>\n",
       "      <td>19266</td>\n",
       "      <td>25.731169</td>\n",
       "    </tr>\n",
       "    <tr>\n",
       "      <th>6419</th>\n",
       "      <td>19267</td>\n",
       "      <td>23.875768</td>\n",
       "    </tr>\n",
       "    <tr>\n",
       "      <th>6420</th>\n",
       "      <td>19270</td>\n",
       "      <td>19.587553</td>\n",
       "    </tr>\n",
       "    <tr>\n",
       "      <th>6421</th>\n",
       "      <td>19272</td>\n",
       "      <td>20.246781</td>\n",
       "    </tr>\n",
       "    <tr>\n",
       "      <th>6422</th>\n",
       "      <td>19275</td>\n",
       "      <td>28.835883</td>\n",
       "    </tr>\n",
       "    <tr>\n",
       "      <th>6423</th>\n",
       "      <td>19276</td>\n",
       "      <td>26.723283</td>\n",
       "    </tr>\n",
       "    <tr>\n",
       "      <th>6424</th>\n",
       "      <td>19286</td>\n",
       "      <td>29.005670</td>\n",
       "    </tr>\n",
       "    <tr>\n",
       "      <th>6425</th>\n",
       "      <td>19288</td>\n",
       "      <td>24.886164</td>\n",
       "    </tr>\n",
       "    <tr>\n",
       "      <th>6426</th>\n",
       "      <td>19292</td>\n",
       "      <td>24.143599</td>\n",
       "    </tr>\n",
       "    <tr>\n",
       "      <th>6427</th>\n",
       "      <td>19296</td>\n",
       "      <td>24.195184</td>\n",
       "    </tr>\n",
       "    <tr>\n",
       "      <th>6428</th>\n",
       "      <td>19298</td>\n",
       "      <td>25.518504</td>\n",
       "    </tr>\n",
       "    <tr>\n",
       "      <th>6429</th>\n",
       "      <td>19300</td>\n",
       "      <td>26.638692</td>\n",
       "    </tr>\n",
       "    <tr>\n",
       "      <th>6430</th>\n",
       "      <td>19303</td>\n",
       "      <td>29.544163</td>\n",
       "    </tr>\n",
       "    <tr>\n",
       "      <th>6431</th>\n",
       "      <td>19304</td>\n",
       "      <td>18.519076</td>\n",
       "    </tr>\n",
       "    <tr>\n",
       "      <th>6432</th>\n",
       "      <td>19305</td>\n",
       "      <td>31.272146</td>\n",
       "    </tr>\n",
       "    <tr>\n",
       "      <th>6433</th>\n",
       "      <td>19306</td>\n",
       "      <td>24.994708</td>\n",
       "    </tr>\n",
       "    <tr>\n",
       "      <th>6434</th>\n",
       "      <td>19311</td>\n",
       "      <td>28.935425</td>\n",
       "    </tr>\n",
       "    <tr>\n",
       "      <th>6435</th>\n",
       "      <td>19312</td>\n",
       "      <td>18.553659</td>\n",
       "    </tr>\n",
       "    <tr>\n",
       "      <th>6436</th>\n",
       "      <td>19314</td>\n",
       "      <td>29.126970</td>\n",
       "    </tr>\n",
       "    <tr>\n",
       "      <th>6437</th>\n",
       "      <td>19316</td>\n",
       "      <td>25.546006</td>\n",
       "    </tr>\n",
       "    <tr>\n",
       "      <th>6438</th>\n",
       "      <td>19318</td>\n",
       "      <td>24.546000</td>\n",
       "    </tr>\n",
       "    <tr>\n",
       "      <th>6439</th>\n",
       "      <td>19320</td>\n",
       "      <td>19.272832</td>\n",
       "    </tr>\n",
       "  </tbody>\n",
       "</table>\n",
       "<p>6440 rows × 2 columns</p>\n",
       "</div>"
      ],
      "text/plain": [
       "      user.id        age\n",
       "0           2  26.097750\n",
       "1           8  23.512323\n",
       "2           9  26.307722\n",
       "3          10  24.116599\n",
       "4          11  23.448533\n",
       "5          13  20.072217\n",
       "6          20  28.606135\n",
       "7          26  20.307331\n",
       "8          27  19.392220\n",
       "9          29  25.077876\n",
       "10         31  27.066792\n",
       "11         33  20.369875\n",
       "12         35  24.056663\n",
       "13         36  27.834266\n",
       "14         38  24.128952\n",
       "15         48  24.024373\n",
       "16         49  26.833170\n",
       "17         53  19.600254\n",
       "18         54  20.925854\n",
       "19         59  26.088590\n",
       "20         66  25.486503\n",
       "21         68  26.807789\n",
       "22         72  25.732578\n",
       "23         76  20.777289\n",
       "24         83  25.086146\n",
       "25         89  25.536158\n",
       "26         90  25.097319\n",
       "27         91  23.755761\n",
       "28         94  23.842732\n",
       "29         95  27.021341\n",
       "...       ...        ...\n",
       "6410    19245  26.991541\n",
       "6411    19246  25.813908\n",
       "6412    19251  24.003968\n",
       "6413    19254  24.314798\n",
       "6414    19257  25.093148\n",
       "6415    19259  24.848897\n",
       "6416    19261  29.897660\n",
       "6417    19265  19.261566\n",
       "6418    19266  25.731169\n",
       "6419    19267  23.875768\n",
       "6420    19270  19.587553\n",
       "6421    19272  20.246781\n",
       "6422    19275  28.835883\n",
       "6423    19276  26.723283\n",
       "6424    19286  29.005670\n",
       "6425    19288  24.886164\n",
       "6426    19292  24.143599\n",
       "6427    19296  24.195184\n",
       "6428    19298  25.518504\n",
       "6429    19300  26.638692\n",
       "6430    19303  29.544163\n",
       "6431    19304  18.519076\n",
       "6432    19305  31.272146\n",
       "6433    19306  24.994708\n",
       "6434    19311  28.935425\n",
       "6435    19312  18.553659\n",
       "6436    19314  29.126970\n",
       "6437    19316  25.546006\n",
       "6438    19318  24.546000\n",
       "6439    19320  19.272832\n",
       "\n",
       "[6440 rows x 2 columns]"
      ]
     },
     "execution_count": 29,
     "metadata": {},
     "output_type": "execute_result"
    }
   ],
   "source": [
    "solution_lasso"
   ]
  },
  {
   "cell_type": "code",
   "execution_count": null,
   "metadata": {},
   "outputs": [],
   "source": []
  }
 ],
 "metadata": {
  "kernelspec": {
   "display_name": "Python 3",
   "language": "python",
   "name": "python3"
  },
  "language_info": {
   "codemirror_mode": {
    "name": "ipython",
    "version": 3
   },
   "file_extension": ".py",
   "mimetype": "text/x-python",
   "name": "python",
   "nbconvert_exporter": "python",
   "pygments_lexer": "ipython3",
   "version": "3.6.5"
  }
 },
 "nbformat": 4,
 "nbformat_minor": 2
}
