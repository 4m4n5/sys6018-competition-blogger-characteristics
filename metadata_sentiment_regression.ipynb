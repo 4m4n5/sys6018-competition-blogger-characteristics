{
 "cells": [
  {
   "cell_type": "code",
   "execution_count": 1,
   "metadata": {},
   "outputs": [
    {
     "name": "stdout",
     "output_type": "stream",
     "text": [
      "[nltk_data] Downloading package stopwords to /home/aman/nltk_data...\n",
      "[nltk_data]   Package stopwords is already up-to-date!\n",
      "[nltk_data] Downloading package punkt to /home/aman/nltk_data...\n",
      "[nltk_data]   Package punkt is already up-to-date!\n"
     ]
    }
   ],
   "source": [
    "import numpy as np # linear algebra\n",
    "import pandas as pd # data processing, CSV file I/O (e.g. pd.read_csv)\n",
    "import re\n",
    "import nltk\n",
    "nltk.download('stopwords')\n",
    "nltk.download('punkt')\n",
    "from nltk.corpus import stopwords\n",
    "from numpy import *\n",
    "\n",
    "# Imports\n",
    "import pandas as pd\n",
    "from bs4 import BeautifulSoup\n",
    "import re\n",
    "from nltk.corpus import stopwords\n",
    "import nltk.data\n",
    "tokenizer = nltk.data.load('tokenizers/punkt/english.pickle')\n",
    "import numpy as np\n",
    "from sklearn.feature_extraction.text import CountVectorizer\n",
    "import warnings\n",
    "def ignore_warn(*args, **kwargs):\n",
    "    pass\n",
    "warnings.warn = ignore_warn #ignore annoying warning (from sklearn and seaborn)\n",
    "from gensim.models import word2vec"
   ]
  },
  {
   "cell_type": "code",
   "execution_count": 2,
   "metadata": {},
   "outputs": [],
   "source": [
    "train = pd.read_csv('data/train.csv')\n",
    "test = pd.read_csv('data/test.csv')"
   ]
  },
  {
   "cell_type": "code",
   "execution_count": 3,
   "metadata": {},
   "outputs": [],
   "source": [
    "y_train = train.age.values\n",
    "data = pd.concat((train, test)).reset_index(drop=True)\n",
    "data.drop(['age'], axis=1, inplace=True)"
   ]
  },
  {
   "cell_type": "code",
   "execution_count": 15,
   "metadata": {},
   "outputs": [],
   "source": [
    "data['year'] = data['date'].str[-4:]"
   ]
  },
  {
   "cell_type": "code",
   "execution_count": 14,
   "metadata": {},
   "outputs": [],
   "source": [
    "mylen = np.vectorize(len)\n",
    "data['length_text'] = mylen(data['text'])"
   ]
  },
  {
   "cell_type": "code",
   "execution_count": 16,
   "metadata": {},
   "outputs": [
    {
     "data": {
      "text/html": [
       "<div>\n",
       "<style scoped>\n",
       "    .dataframe tbody tr th:only-of-type {\n",
       "        vertical-align: middle;\n",
       "    }\n",
       "\n",
       "    .dataframe tbody tr th {\n",
       "        vertical-align: top;\n",
       "    }\n",
       "\n",
       "    .dataframe thead th {\n",
       "        text-align: right;\n",
       "    }\n",
       "</style>\n",
       "<table border=\"1\" class=\"dataframe\">\n",
       "  <thead>\n",
       "    <tr style=\"text-align: right;\">\n",
       "      <th></th>\n",
       "      <th>date</th>\n",
       "      <th>gender</th>\n",
       "      <th>post.id</th>\n",
       "      <th>sign</th>\n",
       "      <th>text</th>\n",
       "      <th>topic</th>\n",
       "      <th>user.id</th>\n",
       "      <th>year</th>\n",
       "      <th>length_text</th>\n",
       "    </tr>\n",
       "  </thead>\n",
       "  <tbody>\n",
       "    <tr>\n",
       "      <th>0</th>\n",
       "      <td>14,May,2004</td>\n",
       "      <td>male</td>\n",
       "      <td>1</td>\n",
       "      <td>Leo</td>\n",
       "      <td>Info has been found (+/- 100 pages,...</td>\n",
       "      <td>Student</td>\n",
       "      <td>11869</td>\n",
       "      <td>2004</td>\n",
       "      <td>157</td>\n",
       "    </tr>\n",
       "    <tr>\n",
       "      <th>1</th>\n",
       "      <td>13,May,2004</td>\n",
       "      <td>male</td>\n",
       "      <td>2</td>\n",
       "      <td>Leo</td>\n",
       "      <td>These are the team members:   Drewe...</td>\n",
       "      <td>Student</td>\n",
       "      <td>11869</td>\n",
       "      <td>2004</td>\n",
       "      <td>181</td>\n",
       "    </tr>\n",
       "    <tr>\n",
       "      <th>2</th>\n",
       "      <td>12,May,2004</td>\n",
       "      <td>male</td>\n",
       "      <td>3</td>\n",
       "      <td>Leo</td>\n",
       "      <td>In het kader van kernfusie op aarde...</td>\n",
       "      <td>Student</td>\n",
       "      <td>11869</td>\n",
       "      <td>2004</td>\n",
       "      <td>25467</td>\n",
       "    </tr>\n",
       "    <tr>\n",
       "      <th>3</th>\n",
       "      <td>12,May,2004</td>\n",
       "      <td>male</td>\n",
       "      <td>4</td>\n",
       "      <td>Leo</td>\n",
       "      <td>testing!!!  testing!!!</td>\n",
       "      <td>Student</td>\n",
       "      <td>11869</td>\n",
       "      <td>2004</td>\n",
       "      <td>43</td>\n",
       "    </tr>\n",
       "    <tr>\n",
       "      <th>4</th>\n",
       "      <td>11,June,2004</td>\n",
       "      <td>male</td>\n",
       "      <td>5</td>\n",
       "      <td>Aquarius</td>\n",
       "      <td>Thanks to Yahoo!'s Toolbar I can ...</td>\n",
       "      <td>InvestmentBanking</td>\n",
       "      <td>16332</td>\n",
       "      <td>2004</td>\n",
       "      <td>402</td>\n",
       "    </tr>\n",
       "  </tbody>\n",
       "</table>\n",
       "</div>"
      ],
      "text/plain": [
       "           date gender  post.id      sign  \\\n",
       "0   14,May,2004   male        1       Leo   \n",
       "1   13,May,2004   male        2       Leo   \n",
       "2   12,May,2004   male        3       Leo   \n",
       "3   12,May,2004   male        4       Leo   \n",
       "4  11,June,2004   male        5  Aquarius   \n",
       "\n",
       "                                                text              topic  \\\n",
       "0             Info has been found (+/- 100 pages,...            Student   \n",
       "1             These are the team members:   Drewe...            Student   \n",
       "2             In het kader van kernfusie op aarde...            Student   \n",
       "3                   testing!!!  testing!!!                      Student   \n",
       "4               Thanks to Yahoo!'s Toolbar I can ...  InvestmentBanking   \n",
       "\n",
       "   user.id  year  length_text  \n",
       "0    11869  2004          157  \n",
       "1    11869  2004          181  \n",
       "2    11869  2004        25467  \n",
       "3    11869  2004           43  \n",
       "4    16332  2004          402  "
      ]
     },
     "execution_count": 16,
     "metadata": {},
     "output_type": "execute_result"
    }
   ],
   "source": [
    "data.head()"
   ]
  },
  {
   "cell_type": "code",
   "execution_count": 30,
   "metadata": {},
   "outputs": [],
   "source": [
    "from nltk.sentiment.vader import SentimentIntensityAnalyzer\n",
    "analyzer = SentimentIntensityAnalyzer()\n",
    "sentiment = pd.DataFrame(columns=('Positive', 'Negative', 'Neutral', 'Compound'))\n",
    "from nltk.tokenize import sent_tokenize, word_tokenize\n",
    "counter = 0\n",
    "for text in data['text']:\n",
    "    text_compound = 0\n",
    "    text_neg = 0\n",
    "    text_pos = 0\n",
    "    text_neu = 0\n",
    "    counter = counter + 1\n",
    "    try:\n",
    "        sentences = sent_tokenize(text)\n",
    "        l = len(sentences)\n",
    "    except:\n",
    "        print (counter)\n",
    "        sentences = ['test', 'test2 jh']\n",
    "        l = 1000000000000\n",
    "    for sentence in sentences:\n",
    "        vs = analyzer.polarity_scores(sentence)\n",
    "        text_compound = text_compound + vs['compound']\n",
    "        text_neg = text_neg + vs['neg']\n",
    "        text_pos = text_pos + vs['pos']\n",
    "        text_neu = text_neu + vs['neu']\n",
    "    if l == 0:\n",
    "        l = 10000000000000\n",
    "    text_sentiment = pd.DataFrame([[text_pos/l, text_neg/l, text_neu/l, text_compound/l]], columns=('Positive', 'Negative', 'Neutral', 'Compound'))\n",
    "    sentiment = sentiment.append(text_sentiment, ignore_index = True)"
   ]
  },
  {
   "cell_type": "code",
   "execution_count": 40,
   "metadata": {},
   "outputs": [],
   "source": [
    "final_data = pd.concat([data, sentiment], axis=1)"
   ]
  },
  {
   "cell_type": "code",
   "execution_count": 41,
   "metadata": {},
   "outputs": [
    {
     "data": {
      "text/html": [
       "<div>\n",
       "<style scoped>\n",
       "    .dataframe tbody tr th:only-of-type {\n",
       "        vertical-align: middle;\n",
       "    }\n",
       "\n",
       "    .dataframe tbody tr th {\n",
       "        vertical-align: top;\n",
       "    }\n",
       "\n",
       "    .dataframe thead th {\n",
       "        text-align: right;\n",
       "    }\n",
       "</style>\n",
       "<table border=\"1\" class=\"dataframe\">\n",
       "  <thead>\n",
       "    <tr style=\"text-align: right;\">\n",
       "      <th></th>\n",
       "      <th>date</th>\n",
       "      <th>gender</th>\n",
       "      <th>post.id</th>\n",
       "      <th>sign</th>\n",
       "      <th>text</th>\n",
       "      <th>topic</th>\n",
       "      <th>user.id</th>\n",
       "      <th>year</th>\n",
       "      <th>length_text</th>\n",
       "      <th>Positive</th>\n",
       "      <th>Negative</th>\n",
       "      <th>Neutral</th>\n",
       "      <th>Compound</th>\n",
       "    </tr>\n",
       "  </thead>\n",
       "  <tbody>\n",
       "    <tr>\n",
       "      <th>0</th>\n",
       "      <td>14,May,2004</td>\n",
       "      <td>male</td>\n",
       "      <td>1</td>\n",
       "      <td>Leo</td>\n",
       "      <td>Info has been found (+/- 100 pages,...</td>\n",
       "      <td>Student</td>\n",
       "      <td>11869</td>\n",
       "      <td>2004</td>\n",
       "      <td>157</td>\n",
       "      <td>0.000000</td>\n",
       "      <td>0.000000</td>\n",
       "      <td>1.000000</td>\n",
       "      <td>0.000000</td>\n",
       "    </tr>\n",
       "    <tr>\n",
       "      <th>1</th>\n",
       "      <td>13,May,2004</td>\n",
       "      <td>male</td>\n",
       "      <td>2</td>\n",
       "      <td>Leo</td>\n",
       "      <td>These are the team members:   Drewe...</td>\n",
       "      <td>Student</td>\n",
       "      <td>11869</td>\n",
       "      <td>2004</td>\n",
       "      <td>181</td>\n",
       "      <td>0.000000</td>\n",
       "      <td>0.000000</td>\n",
       "      <td>1.000000</td>\n",
       "      <td>0.000000</td>\n",
       "    </tr>\n",
       "    <tr>\n",
       "      <th>2</th>\n",
       "      <td>12,May,2004</td>\n",
       "      <td>male</td>\n",
       "      <td>3</td>\n",
       "      <td>Leo</td>\n",
       "      <td>In het kader van kernfusie op aarde...</td>\n",
       "      <td>Student</td>\n",
       "      <td>11869</td>\n",
       "      <td>2004</td>\n",
       "      <td>25467</td>\n",
       "      <td>0.081101</td>\n",
       "      <td>0.070965</td>\n",
       "      <td>0.847934</td>\n",
       "      <td>0.003812</td>\n",
       "    </tr>\n",
       "    <tr>\n",
       "      <th>3</th>\n",
       "      <td>12,May,2004</td>\n",
       "      <td>male</td>\n",
       "      <td>4</td>\n",
       "      <td>Leo</td>\n",
       "      <td>testing!!!  testing!!!</td>\n",
       "      <td>Student</td>\n",
       "      <td>11869</td>\n",
       "      <td>2004</td>\n",
       "      <td>43</td>\n",
       "      <td>0.000000</td>\n",
       "      <td>0.000000</td>\n",
       "      <td>0.666667</td>\n",
       "      <td>0.000000</td>\n",
       "    </tr>\n",
       "    <tr>\n",
       "      <th>4</th>\n",
       "      <td>11,June,2004</td>\n",
       "      <td>male</td>\n",
       "      <td>5</td>\n",
       "      <td>Aquarius</td>\n",
       "      <td>Thanks to Yahoo!'s Toolbar I can ...</td>\n",
       "      <td>InvestmentBanking</td>\n",
       "      <td>16332</td>\n",
       "      <td>2004</td>\n",
       "      <td>402</td>\n",
       "      <td>0.430500</td>\n",
       "      <td>0.000000</td>\n",
       "      <td>0.569500</td>\n",
       "      <td>0.393100</td>\n",
       "    </tr>\n",
       "  </tbody>\n",
       "</table>\n",
       "</div>"
      ],
      "text/plain": [
       "           date gender  post.id      sign  \\\n",
       "0   14,May,2004   male        1       Leo   \n",
       "1   13,May,2004   male        2       Leo   \n",
       "2   12,May,2004   male        3       Leo   \n",
       "3   12,May,2004   male        4       Leo   \n",
       "4  11,June,2004   male        5  Aquarius   \n",
       "\n",
       "                                                text              topic  \\\n",
       "0             Info has been found (+/- 100 pages,...            Student   \n",
       "1             These are the team members:   Drewe...            Student   \n",
       "2             In het kader van kernfusie op aarde...            Student   \n",
       "3                   testing!!!  testing!!!                      Student   \n",
       "4               Thanks to Yahoo!'s Toolbar I can ...  InvestmentBanking   \n",
       "\n",
       "   user.id  year  length_text  Positive  Negative   Neutral  Compound  \n",
       "0    11869  2004          157  0.000000  0.000000  1.000000  0.000000  \n",
       "1    11869  2004          181  0.000000  0.000000  1.000000  0.000000  \n",
       "2    11869  2004        25467  0.081101  0.070965  0.847934  0.003812  \n",
       "3    11869  2004           43  0.000000  0.000000  0.666667  0.000000  \n",
       "4    16332  2004          402  0.430500  0.000000  0.569500  0.393100  "
      ]
     },
     "execution_count": 41,
     "metadata": {},
     "output_type": "execute_result"
    }
   ],
   "source": [
    "final_data.head()"
   ]
  },
  {
   "cell_type": "code",
   "execution_count": 42,
   "metadata": {},
   "outputs": [],
   "source": [
    "one_hot_columns = ['gender', 'sign', 'topic', 'year']\n",
    "one_hot_columns = pd.get_dummies(final_data[one_hot_columns], dummy_na=True)"
   ]
  },
  {
   "cell_type": "code",
   "execution_count": 44,
   "metadata": {},
   "outputs": [],
   "source": [
    "final_data = pd.concat([final_data, one_hot_columns], axis=1)\n",
    "final_data.to_csv('data_with_sentiment_score_and_one_hot.csv', encoding='utf-8')"
   ]
  },
  {
   "cell_type": "code",
   "execution_count": 45,
   "metadata": {},
   "outputs": [
    {
     "data": {
      "text/plain": [
       "Index(['date', 'gender', 'post.id', 'sign', 'text', 'topic', 'user.id', 'year',\n",
       "       'length_text', 'Positive', 'Negative', 'Neutral', 'Compound',\n",
       "       'gender_female', 'gender_male', 'gender_nan', 'sign_Aquarius',\n",
       "       'sign_Aries', 'sign_Cancer', 'sign_Capricorn', 'sign_Gemini',\n",
       "       'sign_Leo', 'sign_Libra', 'sign_Pisces', 'sign_Sagittarius',\n",
       "       'sign_Scorpio', 'sign_Taurus', 'sign_Virgo', 'sign_nan',\n",
       "       'topic_Accounting', 'topic_Advertising', 'topic_Agriculture',\n",
       "       'topic_Architecture', 'topic_Arts', 'topic_Automotive', 'topic_Banking',\n",
       "       'topic_Biotech', 'topic_BusinessServices', 'topic_Chemicals',\n",
       "       'topic_Communications-Media', 'topic_Construction', 'topic_Consulting',\n",
       "       'topic_Education', 'topic_Engineering', 'topic_Environment',\n",
       "       'topic_Fashion', 'topic_Government', 'topic_HumanResources',\n",
       "       'topic_Internet', 'topic_InvestmentBanking', 'topic_Law',\n",
       "       'topic_LawEnforcement-Security', 'topic_Manufacturing',\n",
       "       'topic_Maritime', 'topic_Marketing', 'topic_Military',\n",
       "       'topic_Museums-Libraries', 'topic_Non-Profit', 'topic_Publishing',\n",
       "       'topic_RealEstate', 'topic_Religion', 'topic_Science',\n",
       "       'topic_Sports-Recreation', 'topic_Student', 'topic_Technology',\n",
       "       'topic_Telecommunications', 'topic_Tourism', 'topic_Transportation',\n",
       "       'topic_indUnk', 'topic_nan', 'year_,,', 'year_1999', 'year_2000',\n",
       "       'year_2001', 'year_2002', 'year_2003', 'year_2004', 'year_2005',\n",
       "       'year_2006', 'year_nan'],\n",
       "      dtype='object')"
      ]
     },
     "execution_count": 45,
     "metadata": {},
     "output_type": "execute_result"
    }
   ],
   "source": [
    "final_data.columns"
   ]
  },
  {
   "cell_type": "code",
   "execution_count": 58,
   "metadata": {},
   "outputs": [],
   "source": [
    "train_columns = ['length_text', 'Positive', 'Negative', 'Neutral', 'Compound',\n",
    "       'gender_female', 'gender_male', 'gender_nan', 'sign_Aquarius',\n",
    "       'sign_Aries', 'sign_Cancer', 'sign_Capricorn', 'sign_Gemini',\n",
    "       'sign_Leo', 'sign_Libra', 'sign_Pisces', 'sign_Sagittarius',\n",
    "       'sign_Scorpio', 'sign_Taurus', 'sign_Virgo', 'sign_nan',\n",
    "       'topic_Accounting', 'topic_Advertising', 'topic_Agriculture',\n",
    "       'topic_Architecture', 'topic_Arts', 'topic_Automotive', 'topic_Banking',\n",
    "       'topic_Biotech', 'topic_BusinessServices', 'topic_Chemicals',\n",
    "       'topic_Communications-Media', 'topic_Construction', 'topic_Consulting',\n",
    "       'topic_Education', 'topic_Engineering', 'topic_Environment',\n",
    "       'topic_Fashion', 'topic_Government', 'topic_HumanResources',\n",
    "       'topic_Internet', 'topic_InvestmentBanking', 'topic_Law',\n",
    "       'topic_LawEnforcement-Security', 'topic_Manufacturing',\n",
    "       'topic_Maritime', 'topic_Marketing', 'topic_Military',\n",
    "       'topic_Museums-Libraries', 'topic_Non-Profit', 'topic_Publishing',\n",
    "       'topic_RealEstate', 'topic_Religion', 'topic_Science',\n",
    "       'topic_Sports-Recreation', 'topic_Student', 'topic_Technology',\n",
    "       'topic_Telecommunications', 'topic_Tourism', 'topic_Transportation',\n",
    "       'topic_indUnk', 'topic_nan', 'year_,,', 'year_1999', 'year_2000',\n",
    "       'year_2001', 'year_2002', 'year_2003', 'year_2004', 'year_2005',\n",
    "       'year_2006', 'year_nan']\n",
    "\n",
    "train_data = final_data[train_columns][:len(train['text'])]\n",
    "test_data = final_data[train_columns][len(train['text']):]"
   ]
  },
  {
   "cell_type": "code",
   "execution_count": 46,
   "metadata": {},
   "outputs": [],
   "source": [
    "from sklearn.linear_model import ElasticNet, Lasso,  BayesianRidge, LassoLarsIC, LinearRegression\n",
    "from sklearn.ensemble import RandomForestRegressor,  GradientBoostingRegressor\n",
    "from sklearn.kernel_ridge import KernelRidge\n",
    "from sklearn.pipeline import make_pipeline\n",
    "from sklearn.preprocessing import RobustScaler\n",
    "from sklearn.base import BaseEstimator, TransformerMixin, RegressorMixin, clone\n",
    "from sklearn.model_selection import KFold, cross_val_score, train_test_split\n",
    "from sklearn.metrics import mean_squared_error\n",
    "import xgboost as xgb"
   ]
  },
  {
   "cell_type": "code",
   "execution_count": 64,
   "metadata": {},
   "outputs": [
    {
     "data": {
      "text/plain": [
       "array([0.16039372, 0.17801303, 0.12669821, 0.20925074])"
      ]
     },
     "execution_count": 64,
     "metadata": {},
     "output_type": "execute_result"
    }
   ],
   "source": [
    "lasso =  make_pipeline(RobustScaler(), Lasso(alpha =0.0005, random_state=1))\n",
    "cross_val_score(lasso, train_data, train['age'], cv=4)"
   ]
  },
  {
   "cell_type": "code",
   "execution_count": null,
   "metadata": {},
   "outputs": [],
   "source": [
    "xgbm = xgb.XGBRegressor(n_estimators=360, max_depth=8, learning_rate=0.1)\n",
    "cross_val_score(xgbm, train_data, train['age'], cv=4)"
   ]
  },
  {
   "cell_type": "code",
   "execution_count": 68,
   "metadata": {},
   "outputs": [
    {
     "data": {
      "text/plain": [
       "XGBRegressor(base_score=0.5, booster='gbtree', colsample_bylevel=1,\n",
       "       colsample_bytree=1, gamma=0, learning_rate=0.1, max_delta_step=0,\n",
       "       max_depth=2, min_child_weight=1, missing=None, n_estimators=360,\n",
       "       n_jobs=1, nthread=None, objective='reg:linear', random_state=0,\n",
       "       reg_alpha=0, reg_lambda=1, scale_pos_weight=1, seed=None,\n",
       "       silent=True, subsample=1)"
      ]
     },
     "execution_count": 68,
     "metadata": {},
     "output_type": "execute_result"
    }
   ],
   "source": [
    "xgbm.fit(train_data, train['age'])"
   ]
  },
  {
   "cell_type": "code",
   "execution_count": 85,
   "metadata": {},
   "outputs": [],
   "source": [
    "preds = xgbm.predict(test_data)\n",
    "solution = pd.DataFrame({\"user.id\":test[\"user.id\"], \"age\":preds})"
   ]
  },
  {
   "cell_type": "code",
   "execution_count": 71,
   "metadata": {},
   "outputs": [],
   "source": [
    "solution = solution.groupby('user.id', as_index=False)['age'].mean()"
   ]
  },
  {
   "cell_type": "code",
   "execution_count": 72,
   "metadata": {},
   "outputs": [],
   "source": [
    "solution.to_csv(\"solutions/metadata_sentiment_xgbm.csv\", index = False)"
   ]
  },
  {
   "cell_type": "code",
   "execution_count": 73,
   "metadata": {},
   "outputs": [
    {
     "data": {
      "text/plain": [
       "Lasso(alpha=1.0, copy_X=True, fit_intercept=True, max_iter=1000,\n",
       "   normalize=False, positive=False, precompute=False, random_state=None,\n",
       "   selection='cyclic', tol=0.0001, warm_start=False)"
      ]
     },
     "execution_count": 73,
     "metadata": {},
     "output_type": "execute_result"
    }
   ],
   "source": [
    "lasso.fit(train_data, train['age'])"
   ]
  },
  {
   "cell_type": "code",
   "execution_count": 77,
   "metadata": {},
   "outputs": [],
   "source": [
    "preds_lasso = lasso.predict(test_data)\n",
    "solution_lasso = pd.DataFrame({\"user.id\":test[\"user.id\"], \"age\":preds})\n",
    "solution_lasso = solution_lasso.groupby('user.id', as_index=False)['age'].mean()\n",
    "solution_lasso.to_csv(\"solutions/metadata_sentiment_lasso.csv\", index = False)"
   ]
  },
  {
   "cell_type": "code",
   "execution_count": 89,
   "metadata": {},
   "outputs": [],
   "source": [
    "ensamble = (preds_lasso + preds)/2\n",
    "solution_ensamble = pd.DataFrame({\"user.id\":test[\"user.id\"], \"age\":ensamble})\n",
    "solution_ensamble = solution_ensamble.groupby('user.id', as_index=False)['age'].mean()\n",
    "solution_ensamble.to_csv(\"solutions/metadata_sentiment_ensamble.csv\", index = False)"
   ]
  },
  {
   "cell_type": "code",
   "execution_count": 87,
   "metadata": {},
   "outputs": [
    {
     "data": {
      "text/plain": [
       "array([23.72066564, 24.66381767, 22.13861759, ..., 22.01031735,\n",
       "       22.06346438, 22.25570712])"
      ]
     },
     "execution_count": 87,
     "metadata": {},
     "output_type": "execute_result"
    }
   ],
   "source": [
    "preds_lasso"
   ]
  },
  {
   "cell_type": "code",
   "execution_count": null,
   "metadata": {},
   "outputs": [],
   "source": []
  }
 ],
 "metadata": {
  "kernelspec": {
   "display_name": "Python 3",
   "language": "python",
   "name": "python3"
  },
  "language_info": {
   "codemirror_mode": {
    "name": "ipython",
    "version": 3
   },
   "file_extension": ".py",
   "mimetype": "text/x-python",
   "name": "python",
   "nbconvert_exporter": "python",
   "pygments_lexer": "ipython3",
   "version": "3.6.5"
  }
 },
 "nbformat": 4,
 "nbformat_minor": 2
}
